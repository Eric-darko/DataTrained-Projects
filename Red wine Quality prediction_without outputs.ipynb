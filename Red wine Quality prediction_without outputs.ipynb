{
 "cells": [
  {
   "cell_type": "markdown",
   "id": "53da284a",
   "metadata": {},
   "source": [
    "# Red Wine quality prediction"
   ]
  },
  {
   "cell_type": "code",
   "execution_count": null,
   "id": "87a61d9f",
   "metadata": {},
   "outputs": [],
   "source": [
    "#importing the necessary libraries\n",
    "import pandas as pd\n",
    "import numpy as np\n",
    "import seaborn as sns\n",
    "\n",
    "%matplotlib inline\n",
    "import matplotlib.pyplot as plt"
   ]
  },
  {
   "cell_type": "code",
   "execution_count": null,
   "id": "57bb60c1",
   "metadata": {},
   "outputs": [],
   "source": [
    "df = pd.read_csv('https://raw.githubusercontent.com/dsrscientist/DSData/master/winequality-red.csv')"
   ]
  },
  {
   "cell_type": "code",
   "execution_count": null,
   "id": "7b2712a1",
   "metadata": {},
   "outputs": [],
   "source": [
    "feature_val =df.columns #checking all the dependent or feature variables in the dataset"
   ]
  },
  {
   "cell_type": "code",
   "execution_count": null,
   "id": "64d5bb4a",
   "metadata": {},
   "outputs": [],
   "source": [
    "df.head() #checking the first 5 rows"
   ]
  },
  {
   "cell_type": "code",
   "execution_count": null,
   "id": "eecc5929",
   "metadata": {},
   "outputs": [],
   "source": [
    "len(df), len(feature_val)"
   ]
  },
  {
   "cell_type": "markdown",
   "id": "77ec0ad1",
   "metadata": {},
   "source": [
    "The data have 1599 rows and 12 columns,\n",
    "Also we are dealing with 12 features"
   ]
  },
  {
   "cell_type": "markdown",
   "id": "5203fc1d",
   "metadata": {},
   "source": [
    "# Data Exploration Analysis"
   ]
  },
  {
   "cell_type": "markdown",
   "id": "ad14e68c",
   "metadata": {},
   "source": [
    "first checking null values in the dataset"
   ]
  },
  {
   "cell_type": "code",
   "execution_count": null,
   "id": "6dadd639",
   "metadata": {},
   "outputs": [],
   "source": [
    "df.isnull().sum() #can see that there is no empty values present in all the columns "
   ]
  },
  {
   "cell_type": "markdown",
   "id": "f34d1de2",
   "metadata": {},
   "source": [
    "Doing a further check on the data types for each of the columns"
   ]
  },
  {
   "cell_type": "code",
   "execution_count": null,
   "id": "1e8c6afb",
   "metadata": {},
   "outputs": [],
   "source": [
    "df.dtypes # all values in each column contains a continuous data"
   ]
  },
  {
   "cell_type": "markdown",
   "id": "e7042106",
   "metadata": {},
   "source": [
    "# Scatter Plots"
   ]
  },
  {
   "cell_type": "code",
   "execution_count": null,
   "id": "bfe1da23",
   "metadata": {},
   "outputs": [],
   "source": [
    "sns.scatterplot(x= 'fixed acidity', y= 'quality',data = df) #scatter plot for fixed acidity and the target variable (quality)"
   ]
  },
  {
   "cell_type": "code",
   "execution_count": null,
   "id": "7778cb88",
   "metadata": {},
   "outputs": [],
   "source": [
    "sns.scatterplot(x= 'volatile acidity', y= 'quality',data = df)"
   ]
  },
  {
   "cell_type": "code",
   "execution_count": null,
   "id": "0fadbe8f",
   "metadata": {},
   "outputs": [],
   "source": [
    "sns.scatterplot(x= 'citric acid', y= 'quality',data = df)"
   ]
  },
  {
   "cell_type": "code",
   "execution_count": null,
   "id": "7a102523",
   "metadata": {},
   "outputs": [],
   "source": [
    "sns.scatterplot(x= 'residual sugar', y= 'quality',data = df)"
   ]
  },
  {
   "cell_type": "code",
   "execution_count": null,
   "id": "43f924b0",
   "metadata": {},
   "outputs": [],
   "source": [
    "sns.scatterplot(x= 'chlorides', y= 'quality',data = df)"
   ]
  },
  {
   "cell_type": "code",
   "execution_count": null,
   "id": "2b53300e",
   "metadata": {},
   "outputs": [],
   "source": [
    "sns.scatterplot(x= 'free sulfur dioxide', y= 'quality',data = df)"
   ]
  },
  {
   "cell_type": "code",
   "execution_count": null,
   "id": "085fd150",
   "metadata": {},
   "outputs": [],
   "source": [
    "sns.scatterplot(x= 'total sulfur dioxide', y= 'quality',data = df)"
   ]
  },
  {
   "cell_type": "code",
   "execution_count": null,
   "id": "b97ea3cc",
   "metadata": {},
   "outputs": [],
   "source": [
    "sns.scatterplot(x= 'density', y= 'quality',data = df)"
   ]
  },
  {
   "cell_type": "code",
   "execution_count": null,
   "id": "dc8333fc",
   "metadata": {},
   "outputs": [],
   "source": [
    "sns.scatterplot(x= 'pH', y= 'quality',data = df)"
   ]
  },
  {
   "cell_type": "code",
   "execution_count": null,
   "id": "7f7624dd",
   "metadata": {},
   "outputs": [],
   "source": [
    "sns.scatterplot(x= 'sulphates', y= 'quality',data = df)"
   ]
  },
  {
   "cell_type": "code",
   "execution_count": null,
   "id": "c32af830",
   "metadata": {},
   "outputs": [],
   "source": [
    "sns.scatterplot(x= 'alcohol', y= 'quality',data = df)"
   ]
  },
  {
   "cell_type": "code",
   "execution_count": null,
   "id": "c66439e3",
   "metadata": {},
   "outputs": [],
   "source": [
    "df.corr()['quality'].sort_values() #checking the correlation between all the features column and target columns"
   ]
  },
  {
   "cell_type": "code",
   "execution_count": null,
   "id": "5f5ed189",
   "metadata": {},
   "outputs": [],
   "source": [
    "df.corr() #correlation between all features"
   ]
  },
  {
   "cell_type": "code",
   "execution_count": null,
   "id": "ba613da5",
   "metadata": {},
   "outputs": [],
   "source": [
    "plt.figure(figsize = (15,7))\n",
    "sns.heatmap(df.corr(),annot = True,linewidths = 0.5, linecolor = 'black',fmt = '.2f') #heatmap of correlations "
   ]
  },
  {
   "cell_type": "markdown",
   "id": "0541a6af",
   "metadata": {},
   "source": [
    "# observations\n",
    " \n",
    "There are some negative correlations in the columns of the dataset with the target column\n",
    "\n",
    "fixed acidity has a 12 percent correlation with the target variable which is a very weak bond with the target column, volatile acid has a 39 percent negative correlation with the target column which is a good bond, citric acid also have a weak bond with the target column with 23 percent correlation, rediual sugar has a 1 percent correlation with the target column which is very weak, chlorides 13 percent, free sulfur dioxide, 5 percent, total sulfur dioxide 5 percent, density 17 percent, pH 6 percent, sulphate 25 percent, alchol 48 percent. \n",
    "\n",
    "alcohol has the highest correlation with the target column\n",
    "residual sugar has the lowest correlation with the target column\n",
    "\n",
    "further feature selection will be done to assertain the best features"
   ]
  },
  {
   "cell_type": "code",
   "execution_count": null,
   "id": "d201428e",
   "metadata": {},
   "outputs": [],
   "source": [
    "df.describe()#checking the statiscal breakdown of the data"
   ]
  },
  {
   "cell_type": "code",
   "execution_count": null,
   "id": "35ae83f7",
   "metadata": {},
   "outputs": [],
   "source": [
    "plt.figure(figsize=(15,12))\n",
    "sns.heatmap(round(df.describe()[1:].transpose(),2),linewidth=2,annot=True,fmt=\"f\")\n",
    "plt.xticks(fontsize=18)\n",
    "plt.yticks(fontsize=12)\n",
    "plt.title('Variables summary')\n",
    "plt.show()  #taking a heatmap of the statiscal description of all features"
   ]
  },
  {
   "cell_type": "markdown",
   "id": "971a7b08",
   "metadata": {},
   "source": [
    "# Observation of description of datasets\n",
    "\n",
    "Total number of rows and columns in the dataset\n",
    "1. 1599 rows\n",
    "2. 12 columns\n",
    "\n",
    "fixed acidity:\n",
    "\n",
    " 1. mean=8.32\n",
    " 2. std=1.74\n",
    " 3. max_value =15.9\n",
    " 4. min_value= 4.6\n",
    "\n",
    "volatile acidity:\n",
    "\n",
    " 1. mean= 0.53\n",
    " 2. std= 0.18\n",
    " 3. max_value =\n",
    " 4. min_value =\n",
    "\n",
    "citric acid:\n",
    " 1. mean= 0.27\n",
    " 2. std=  0.19\n",
    " 3. max_value=1.0\n",
    " 4. min_value = 0.0\n",
    "\n",
    "residual sugar:\n",
    "1. mean=2.54\n",
    "2. std=1.41\n",
    "3. max_value=15.50\n",
    "4. min_value=0.90\n",
    "\n",
    "chlorides:\n",
    "   1. mean=0.09\n",
    "   2. std=0.05\n",
    "   3. max_value=0.61\n",
    "   4. min_value=0.01\n",
    "\n",
    "free sulfur dioxide:\n",
    "   1. mean=46.47\n",
    "   2. std=32.90\n",
    "   3. max_value=72.0\n",
    "   4. min_value=10.46\n",
    "\n",
    "total sulfur dioxide:\n",
    "   1. mean=46.47\n",
    "   2. std=32.90\n",
    "   3. max_value=289.0\n",
    "   4. min_value=6.0\n",
    "\n",
    "density:\n",
    "   1. mean=1.0\n",
    "   2. std=0.0\n",
    "   3. max_value=1.0\n",
    "   4. min_value=0.99\n",
    "\n",
    "pH:\n",
    "   1. mean=3.31\n",
    "   2. std=0.15\n",
    "   3. max_value=4.01\n",
    "   4. min_value=2.74\n",
    "\n",
    "sulphate:\n",
    "   1. mean=0.66\n",
    "   2. std=0.17\n",
    "   3. max_value=2.0\n",
    "   4. min_value=0.33\n",
    "\n",
    "alcohol:\n",
    "   1. mean=10.42\n",
    "   2. std=1.07\n",
    "   3. max_value= 14.90\n",
    "   4. min_value= 8.40\n",
    "\n",
    "quality:\n",
    "   1. mean=5.64\n",
    "   2. std=0.81\n",
    "   3. max_value= 8.0\n",
    "   4. min_value=3.0"
   ]
  },
  {
   "cell_type": "code",
   "execution_count": null,
   "id": "49f577fc",
   "metadata": {},
   "outputs": [],
   "source": [
    "df.info() # checking all data types and missing  in the dataframe"
   ]
  },
  {
   "cell_type": "markdown",
   "id": "50f8cc64",
   "metadata": {},
   "source": [
    "# checking Outliers"
   ]
  },
  {
   "cell_type": "code",
   "execution_count": null,
   "id": "fc00caea",
   "metadata": {},
   "outputs": [],
   "source": [
    "d_dims = (10,7)\n",
    "fig, ax = plt.subplots(figsize=d_dims)\n",
    "g = sns.boxplot(data =df, linewidth =2.5, ax = ax)\n",
    "g.set_yscale(\"log\") # checking outliers in the dataset"
   ]
  },
  {
   "cell_type": "code",
   "execution_count": null,
   "id": "750a164e",
   "metadata": {},
   "outputs": [],
   "source": []
  },
  {
   "cell_type": "markdown",
   "id": "4e39e59f",
   "metadata": {},
   "source": [
    "# observations\n",
    "frome the above, it can be observed that only alcohol and quality ( target) has few outliers the rest has more outlier, also the data is narrowly spreaded in residual sugar and chlorides with many outliers. Further skewnes checks will be done on them."
   ]
  },
  {
   "cell_type": "markdown",
   "id": "02dc3130",
   "metadata": {},
   "source": [
    "# Checking Skewness"
   ]
  },
  {
   "cell_type": "code",
   "execution_count": null,
   "id": "060c154c",
   "metadata": {},
   "outputs": [],
   "source": [
    "df.skew()"
   ]
  },
  {
   "cell_type": "markdown",
   "id": "ddbe0de8",
   "metadata": {},
   "source": [
    "Threshold of skewness taken is +/-0.5, Columns which have skewness:\n",
    "  1.  fixed acidity\n",
    "  2. volatility acidity\n",
    "  3. residual sugar\n",
    "  4. chlorides\n",
    "  5. free sulfur dioxide\n",
    "  6. total sulfur dioxide\n",
    "  7. suplhates\n",
    " "
   ]
  },
  {
   "cell_type": "markdown",
   "id": "176acd2a",
   "metadata": {},
   "source": [
    "# Normal distribution curves\n"
   ]
  },
  {
   "cell_type": "code",
   "execution_count": null,
   "id": "c9cd104d",
   "metadata": {},
   "outputs": [],
   "source": [
    "sns.distplot(df[\"fixed acidity\"]) # distribution plots of all feature colums"
   ]
  },
  {
   "cell_type": "code",
   "execution_count": null,
   "id": "6e5b3db1",
   "metadata": {},
   "outputs": [],
   "source": [
    "sns.distplot(df[\"volatile acidity\"])"
   ]
  },
  {
   "cell_type": "code",
   "execution_count": null,
   "id": "24240a8d",
   "metadata": {},
   "outputs": [],
   "source": [
    "sns.distplot(df[\"residual sugar\"])"
   ]
  },
  {
   "cell_type": "code",
   "execution_count": null,
   "id": "5d2ea215",
   "metadata": {},
   "outputs": [],
   "source": [
    "sns.distplot(df[\"chlorides\"])"
   ]
  },
  {
   "cell_type": "code",
   "execution_count": null,
   "id": "66d84b54",
   "metadata": {},
   "outputs": [],
   "source": [
    "sns.distplot(df[\"free sulfur dioxide\"])"
   ]
  },
  {
   "cell_type": "code",
   "execution_count": null,
   "id": "6ca2a791",
   "metadata": {},
   "outputs": [],
   "source": [
    "sns.distplot(df[\"total sulfur dioxide\"])"
   ]
  },
  {
   "cell_type": "code",
   "execution_count": null,
   "id": "07cc5078",
   "metadata": {},
   "outputs": [],
   "source": [
    "sns.distplot(df[\"density\"])"
   ]
  },
  {
   "cell_type": "code",
   "execution_count": null,
   "id": "4bf49e31",
   "metadata": {},
   "outputs": [],
   "source": [
    "sns.distplot(df[\"pH\"])"
   ]
  },
  {
   "cell_type": "code",
   "execution_count": null,
   "id": "c76dd87e",
   "metadata": {},
   "outputs": [],
   "source": [
    "sns.distplot(df[\"sulphates\"])"
   ]
  },
  {
   "cell_type": "code",
   "execution_count": null,
   "id": "61233c12",
   "metadata": {},
   "outputs": [],
   "source": [
    "sns.distplot(df[\"alcohol\"])"
   ]
  },
  {
   "cell_type": "markdown",
   "id": "38d46d71",
   "metadata": {},
   "source": [
    "From all the above normal distributions of each feature, we can conclude that the data is skewed"
   ]
  },
  {
   "cell_type": "markdown",
   "id": "c8460201",
   "metadata": {},
   "source": [
    "# Data cleaning"
   ]
  },
  {
   "cell_type": "code",
   "execution_count": null,
   "id": "14835a82",
   "metadata": {
    "scrolled": true
   },
   "outputs": [],
   "source": [
    "remove = pd.DataFrame([[\"0.013732\",\"residual sugar\",\"No\",\"many\"],[\"-0.050656\",\"free sulfur dioxide\",\"No\",\"many\"],[\"0.057731\",\"pH\",\"No\",\"many\"],[\"-0.128907\",\"chlorides\",\"No\",\"many\"],[\"-0.185100\",\"total sulfur dioxide\",\"No\",\"many\"]],columns=[\"Correlation with targer\",\"column name\",\"Normalised\",\"outliers\"])\n",
    "remove # taking a dataframe of those features with low correlation with target variable and too many outliers"
   ]
  },
  {
   "cell_type": "markdown",
   "id": "ae089931",
   "metadata": {},
   "source": [
    "setting threshold of correlation as +/-0.2\n",
    "\n",
    "the above data will be dropped based on the fact that they are uncorrelated with the target variable and also has too many outliers, a further check will be done to assertain this deletion"
   ]
  },
  {
   "cell_type": "code",
   "execution_count": null,
   "id": "d6dadc76",
   "metadata": {},
   "outputs": [],
   "source": [
    "remove"
   ]
  },
  {
   "cell_type": "code",
   "execution_count": null,
   "id": "e3a319e0",
   "metadata": {},
   "outputs": [],
   "source": [
    "df = df.drop([\"residual sugar\",\"free sulfur dioxide\", \"pH\", \"chlorides\",\"total sulfur dioxide\"], axis =1)"
   ]
  },
  {
   "cell_type": "code",
   "execution_count": null,
   "id": "4f73c421",
   "metadata": {},
   "outputs": [],
   "source": [
    "# setting an abitrary cuttoff for dependent variable,(wine quality) 7 or higher are set to 1(good) otherwise 0(not good)\n",
    "rating = []\n",
    "for row in df['quality']:\n",
    "    if row >= 7:\n",
    "        rating.append(1)\n",
    "    else:\n",
    "        rating.append(0)\n",
    "df['rating'] = rating # adding a new column to the dataset this will be my target variable\n",
    "df"
   ]
  },
  {
   "cell_type": "code",
   "execution_count": null,
   "id": "7ec516be",
   "metadata": {},
   "outputs": [],
   "source": [
    "df.shape"
   ]
  },
  {
   "cell_type": "markdown",
   "id": "b8e4d71c",
   "metadata": {},
   "source": [
    "# Removing outliers"
   ]
  },
  {
   "cell_type": "code",
   "execution_count": null,
   "id": "df6477e1",
   "metadata": {},
   "outputs": [],
   "source": [
    "y = df['rating']#dependent variables\n",
    "x = df.drop(['quality','rating'], axis =1) #independent variables"
   ]
  },
  {
   "cell_type": "code",
   "execution_count": null,
   "id": "91117b03",
   "metadata": {},
   "outputs": [],
   "source": [
    "y"
   ]
  },
  {
   "cell_type": "code",
   "execution_count": null,
   "id": "9c174ae4",
   "metadata": {},
   "outputs": [],
   "source": [
    "from scipy.stats import zscore\n",
    "z = np.abs(zscore(x))\n",
    "z.shape"
   ]
  },
  {
   "cell_type": "code",
   "execution_count": null,
   "id": "378486d1",
   "metadata": {},
   "outputs": [],
   "source": [
    "threshold = 3\n",
    "print(np.where(z > 3))"
   ]
  },
  {
   "cell_type": "code",
   "execution_count": null,
   "id": "c71b4403",
   "metadata": {},
   "outputs": [],
   "source": [
    "x = x[(z<3).all(axis=1)]\n",
    "x.shape"
   ]
  },
  {
   "cell_type": "code",
   "execution_count": null,
   "id": "ee1342c1",
   "metadata": {},
   "outputs": [],
   "source": [
    "y = y[(z<3).all(axis=1)]\n",
    "y.shape"
   ]
  },
  {
   "cell_type": "markdown",
   "id": "629acdec",
   "metadata": {},
   "source": [
    "# percentage data loss"
   ]
  },
  {
   "cell_type": "code",
   "execution_count": null,
   "id": "f84b5be5",
   "metadata": {},
   "outputs": [],
   "source": [
    "loss_percent = (1599 - 1531)/1599*100\n",
    "print(loss_percent)"
   ]
  },
  {
   "cell_type": "markdown",
   "id": "f329fe47",
   "metadata": {},
   "source": [
    "# Transforming data to remove skewness"
   ]
  },
  {
   "cell_type": "code",
   "execution_count": null,
   "id": "666f42bc",
   "metadata": {},
   "outputs": [],
   "source": [
    "from sklearn.preprocessing import power_transform\n",
    "x = power_transform(x, method='yeo-johnson')"
   ]
  },
  {
   "cell_type": "code",
   "execution_count": null,
   "id": "6597a668",
   "metadata": {},
   "outputs": [],
   "source": [
    "x"
   ]
  },
  {
   "cell_type": "code",
   "execution_count": null,
   "id": "bab7b381",
   "metadata": {},
   "outputs": [],
   "source": [
    "from sklearn.preprocessing import StandardScaler\n",
    "sc = StandardScaler()\n",
    "x = sc.fit_transform(x)\n",
    "x"
   ]
  },
  {
   "cell_type": "code",
   "execution_count": null,
   "id": "7944f23d",
   "metadata": {},
   "outputs": [],
   "source": [
    "#oversampling the data\n",
    "from imblearn.over_sampling import SMOTE\n",
    "sm = SMOTE()\n",
    "x,y = sm.fit_resample(x,y)"
   ]
  },
  {
   "cell_type": "code",
   "execution_count": null,
   "id": "07ad6f48",
   "metadata": {},
   "outputs": [],
   "source": [
    "y.value_counts() #checking value count of target column"
   ]
  },
  {
   "cell_type": "code",
   "execution_count": null,
   "id": "8fe42d98",
   "metadata": {},
   "outputs": [],
   "source": [
    "len(y)"
   ]
  },
  {
   "cell_type": "code",
   "execution_count": null,
   "id": "d14231ef",
   "metadata": {},
   "outputs": [],
   "source": [
    "from sklearn.model_selection import train_test_split #importing the necessary libraries for machine learning\n",
    "from sklearn.linear_model import LogisticRegression\n",
    "lr = LogisticRegression()\n",
    "from sklearn.metrics import classification_report, confusion_matrix, roc_curve, accuracy_score"
   ]
  },
  {
   "cell_type": "markdown",
   "id": "702d461d",
   "metadata": {},
   "source": [
    "# spliting the dataset"
   ]
  },
  {
   "cell_type": "code",
   "execution_count": null,
   "id": "7d9e8b1f",
   "metadata": {},
   "outputs": [],
   "source": [
    "for i in range(0,1000): #checking the perfomance of random different states of the model\n",
    "    x_train,x_test,y_train,y_test = train_test_split(x,y, random_state =i, test_size = 0.20)\n",
    "    lr.fit(x_train,y_train)\n",
    "    pred_train= lr.predict(x_train)\n",
    "    pred_test = lr.predict(x_test)\n",
    "    if round(accuracy_score(y_train,pred_train)*100,1)== round(accuracy_score(y_test,pred_test)*100,1):\n",
    "        print('At random state',i, 'the model perfoms very well')\n",
    "        print('At random state:-', i)\n",
    "        print('Training accuracy is:', accuracy_score(y_train,pred_train)*100)\n",
    "        print('Testing accuracy is:', accuracy_score(y_test,pred_test)*100)\n",
    "        print('\\n')"
   ]
  },
  {
   "cell_type": "code",
   "execution_count": null,
   "id": "2951ee46",
   "metadata": {},
   "outputs": [],
   "source": [
    "x_train,x_test,y_train,y_test = train_test_split(x,y, test_size = .20, random_state = 203) # choosing the perfect model for further modeling"
   ]
  },
  {
   "cell_type": "code",
   "execution_count": null,
   "id": "02b8cdd4",
   "metadata": {},
   "outputs": [],
   "source": [
    "from sklearn.metrics import classification_report\n",
    "print(classification_report(y_test,pred_test)) # checking the confusion matrix of the model"
   ]
  },
  {
   "cell_type": "markdown",
   "id": "f0ec1d94",
   "metadata": {},
   "source": [
    "# Cross validation"
   ]
  },
  {
   "cell_type": "code",
   "execution_count": null,
   "id": "ef0fcf6d",
   "metadata": {},
   "outputs": [],
   "source": [
    "pred_lr = lr.predict(x_test)                                     # taking the cross validation and accuracu score of range between 2 and 10\n",
    "from sklearn.model_selection import cross_val_score\n",
    "lss = accuracy_score(y_test,pred_lr)\n",
    "for i in range(2,10):\n",
    "    lsscore = cross_val_score(lr,x,y, cv =i)\n",
    "    lsc = lsscore.mean()\n",
    "    print('At cv:',i)\n",
    "    print('cross validation score is:-', lsc*100)\n",
    "    print('accuracy_score is:-',lss*100)\n",
    "    \n",
    "    print('\\n')"
   ]
  },
  {
   "cell_type": "markdown",
   "id": "a17de9c3",
   "metadata": {},
   "source": [
    "The scores are almost the same in the above cross-validation we will take the one with least difference between the accuracy on test data and cross validation"
   ]
  },
  {
   "cell_type": "code",
   "execution_count": null,
   "id": "3e4ac0c8",
   "metadata": {},
   "outputs": [],
   "source": [
    "lsscore_selected = cross_val_score(lr,x,y, cv = 8).mean()\n",
    "print('The cv score is:',lsscore_selected,'\\nThe accuracy score is:', lss)"
   ]
  },
  {
   "cell_type": "markdown",
   "id": "b09d4cd3",
   "metadata": {},
   "source": [
    "Now we check with different models"
   ]
  },
  {
   "cell_type": "code",
   "execution_count": null,
   "id": "8e9bf3a7",
   "metadata": {},
   "outputs": [],
   "source": [
    "RFC = RandomForestClassifier() #random forest classification\n",
    "RFC.fit(x_train,y_train)\n",
    "predRFC = RFC.predict(x_test)\n",
    "print(accuracy_score(y_test,predRFC))\n",
    "print(confusion_matrix(y_test,predRFC))\n",
    "print(classification_report(y_test,predRFC))"
   ]
  },
  {
   "cell_type": "code",
   "execution_count": null,
   "id": "f9725c14",
   "metadata": {},
   "outputs": [],
   "source": [
    "score = cross_val_score(RFC,x,y) # cross validation scores with default cv of 5\n",
    "print(score)\n",
    "print(score.mean())\n",
    "print('Difference between accuracy and cross validation score is', accuracy_score(y_test,predRFC)-score.mean())"
   ]
  },
  {
   "cell_type": "code",
   "execution_count": null,
   "id": "888e0da8",
   "metadata": {},
   "outputs": [],
   "source": [
    "from sklearn.svm import SVC # support vector classification\n",
    "svc = SVC()\n",
    "svc.fit(x_train, y_train)\n",
    "predsvc = svc.predict(x_test)\n",
    "print(accuracy_score(y_test, predsvc))\n",
    "print(confusion_matrix(y_test,predsvc))\n",
    "print(classification_report(y_test,predsvc))"
   ]
  },
  {
   "cell_type": "code",
   "execution_count": null,
   "id": "ca2b8877",
   "metadata": {},
   "outputs": [],
   "source": [
    "#checking cv score for support vector machine classifier\n",
    "score = cross_val_score(svc,x,y)\n",
    "print(score)\n",
    "print(score.mean())\n",
    "print('Difference between accuracy and cross validation score is', accuracy_score(y_test,predsvc)-score.mean())"
   ]
  },
  {
   "cell_type": "code",
   "execution_count": null,
   "id": "bc76ad7b",
   "metadata": {},
   "outputs": [],
   "source": [
    "#checking accuracy for Decision Tree classifier\n",
    "from sklearn.tree import DecisionTreeClassifier\n",
    "dtc = DecisionTreeClassifier()\n",
    "dtc.fit(x_train,y_train)\n",
    "predtc = dtc.predict(x_test)\n",
    "print(accuracy_score(y_test,predtc))\n",
    "print(confusion_matrix(y_test,predtc))\n",
    "print(classification_report(y_test,predtc))"
   ]
  },
  {
   "cell_type": "code",
   "execution_count": null,
   "id": "0b7ed1d1",
   "metadata": {},
   "outputs": [],
   "source": [
    "score = cross_val_score(dtc,x,y)\n",
    "print(score)\n",
    "print(score.mean())\n",
    "print('Difference between accuracy and cross validation score is', accuracy_score(y_test,predtc)-score.mean())"
   ]
  },
  {
   "cell_type": "markdown",
   "id": "b8510bab",
   "metadata": {},
   "source": [
    "# Hyper parameter tuning"
   ]
  },
  {
   "cell_type": "code",
   "execution_count": null,
   "id": "39fcd459",
   "metadata": {},
   "outputs": [],
   "source": [
    "from sklearn.model_selection import GridSearchCV"
   ]
  },
  {
   "cell_type": "code",
   "execution_count": null,
   "id": "b74e4142",
   "metadata": {},
   "outputs": [],
   "source": [
    "parameters={\"splitter\":[\"best\",\"random\"],\n",
    "            \"max_depth\" : [1,3,5,7,9,11,12],\n",
    "           \"min_samples_leaf\":[1,2,3,4,5,6,7,8,9,10],\n",
    "           \"min_weight_fraction_leaf\":[0.1,0.2,0.3,0.4,0.5,0.6,0.7,0.8,0.9],\n",
    "           \"max_features\":[\"auto\",\"log2\",\"sqrt\",None],\n",
    "           \"max_leaf_nodes\":[None,10,20,30,40,50,60,70,80,90] }"
   ]
  },
  {
   "cell_type": "code",
   "execution_count": null,
   "id": "0f01c893",
   "metadata": {},
   "outputs": [],
   "source": [
    "tuning_model = GridSearchCV(dtc,param_grid=parameters, scoring = 'neg_mean_squared_error', cv =3, verbose = 3)"
   ]
  },
  {
   "cell_type": "code",
   "execution_count": null,
   "id": "90a7627e",
   "metadata": {},
   "outputs": [],
   "source": [
    "tuning_model.fit(x_train, y_train)"
   ]
  },
  {
   "cell_type": "code",
   "execution_count": null,
   "id": "61363bdf",
   "metadata": {},
   "outputs": [],
   "source": [
    "tuning_model.best_params_"
   ]
  },
  {
   "cell_type": "code",
   "execution_count": null,
   "id": "3fe9df9f",
   "metadata": {},
   "outputs": [],
   "source": [
    "final_model = DecisionTreeClassifier(max_depth=9,max_features ='sqrt',max_leaf_nodes=80,min_samples_leaf = 4,min_weight_fraction_leaf=0.1,splitter='best')\n",
    "final_model.fit(x_train,y_train)\n",
    "pred = final_model.predict(x_test)\n",
    "acc = accuracy_score(y_test,pred)\n",
    "print(acc*100)"
   ]
  },
  {
   "cell_type": "markdown",
   "id": "d9c92d98",
   "metadata": {},
   "source": [
    "# AUC ROC Curve"
   ]
  },
  {
   "cell_type": "code",
   "execution_count": null,
   "id": "d08c9ff9",
   "metadata": {},
   "outputs": [],
   "source": [
    "from sklearn import datasets\n",
    "from sklearn import metrics\n",
    "from sklearn import model_selection\n",
    "from sklearn.metrics import plot_roc_curve\n",
    "\n",
    "disp = plot_roc_curve(dtc,x_test,y_test)\n",
    "plot_roc_curve(RFC, x_test,y_test, ax = disp.ax_)\n",
    "\n",
    "plot_roc_curve(svc, x_test, y_test, ax = disp.ax_)\n",
    "plot_roc_curve(GB, x_test,y_test,ax = disp.ax_)\n",
    "\n",
    "plt.legend(prop={'size':11},loc = 'lower right')\n",
    "plt.show()"
   ]
  },
  {
   "cell_type": "markdown",
   "id": "36081332",
   "metadata": {},
   "source": [
    "# saving the model"
   ]
  },
  {
   "cell_type": "code",
   "execution_count": null,
   "id": "babcd8ec",
   "metadata": {},
   "outputs": [],
   "source": [
    "import pickle\n",
    "filename = 'wine_dataset.pkl'\n",
    "pickle.dump(final_model,open(filename,'wb'))"
   ]
  },
  {
   "cell_type": "markdown",
   "id": "ef085286",
   "metadata": {},
   "source": [
    "# conclusion"
   ]
  },
  {
   "cell_type": "code",
   "execution_count": null,
   "id": "647da2db",
   "metadata": {},
   "outputs": [],
   "source": [
    "b = np.array(y_test)\n",
    "predicted= np.array(lr.predict(x_test))\n",
    "df_com =pd.DataFrame({'original':b,'predicted':predicted},index=range(len(b)))\n",
    "df_com"
   ]
  },
  {
   "cell_type": "markdown",
   "id": "7e44e376",
   "metadata": {},
   "source": [
    "# Recomendation"
   ]
  },
  {
   "cell_type": "markdown",
   "id": "19b5fee4",
   "metadata": {},
   "source": [
    "1. Random Forest classification model have the highest accuracy.\n",
    "2. Support vector classification has the least difference between the cross validation score and the accuracy score\n",
    "2. Hyperparameter tunning must be done with support vector model to see if we get a higher accuracy or better than Decission Tree"
   ]
  },
  {
   "cell_type": "code",
   "execution_count": null,
   "id": "94bc8992",
   "metadata": {},
   "outputs": [],
   "source": []
  }
 ],
 "metadata": {
  "kernelspec": {
   "display_name": "Python 3 (ipykernel)",
   "language": "python",
   "name": "python3"
  },
  "language_info": {
   "codemirror_mode": {
    "name": "ipython",
    "version": 3
   },
   "file_extension": ".py",
   "mimetype": "text/x-python",
   "name": "python",
   "nbconvert_exporter": "python",
   "pygments_lexer": "ipython3",
   "version": "3.9.12"
  }
 },
 "nbformat": 4,
 "nbformat_minor": 5
}
