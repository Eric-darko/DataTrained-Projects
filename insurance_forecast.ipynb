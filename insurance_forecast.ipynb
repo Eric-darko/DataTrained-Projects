{
 "cells": [
  {
   "cell_type": "markdown",
   "id": "3f89745b",
   "metadata": {},
   "source": [
    "# Insurance Forecast using Regression Algorithms"
   ]
  },
  {
   "cell_type": "code",
   "execution_count": null,
   "id": "ee8d1bf2",
   "metadata": {},
   "outputs": [],
   "source": [
    "import pandas as pd\n",
    "import numpy as np\n",
    "\n",
    "import seaborn as sns\n",
    "import warnings\n",
    "warnings.filterwarnings('ignore')\n",
    "%matplotlib inline\n",
    "import matplotlib.pyplot as plt\n",
    "from scipy.stats import zscore\n",
    "from sklearn.preprocessing import OrdinalEncoder\n",
    "from sklearn.preprocessing import MinMaxScaler\n",
    "from sklearn.linear_model import LinearRegression\n",
    "from sklearn.metrics import r2_score\n",
    "from sklearn.model_selection import  train_test_split\n",
    "from sklearn.model_selection import cross_val_score\n",
    "from sklearn.model_selection import GridSearchCV\n",
    "from sklearn.linear_model import Lasso\n",
    "from sklearn.ensemble import  RandomForestRegressor"
   ]
  },
  {
   "cell_type": "code",
   "execution_count": 3,
   "id": "baea772a",
   "metadata": {},
   "outputs": [],
   "source": [
    "med_df = pd.read_csv('https://raw.githubusercontent.com/dsrscientist/dataset4/main/medical_cost_insurance.csv')"
   ]
  },
  {
   "cell_type": "code",
   "execution_count": 4,
   "id": "3c85aa56",
   "metadata": {},
   "outputs": [
    {
     "data": {
      "text/html": [
       "<div>\n",
       "<style scoped>\n",
       "    .dataframe tbody tr th:only-of-type {\n",
       "        vertical-align: middle;\n",
       "    }\n",
       "\n",
       "    .dataframe tbody tr th {\n",
       "        vertical-align: top;\n",
       "    }\n",
       "\n",
       "    .dataframe thead th {\n",
       "        text-align: right;\n",
       "    }\n",
       "</style>\n",
       "<table border=\"1\" class=\"dataframe\">\n",
       "  <thead>\n",
       "    <tr style=\"text-align: right;\">\n",
       "      <th></th>\n",
       "      <th>age</th>\n",
       "      <th>sex</th>\n",
       "      <th>bmi</th>\n",
       "      <th>children</th>\n",
       "      <th>smoker</th>\n",
       "      <th>region</th>\n",
       "      <th>charges</th>\n",
       "    </tr>\n",
       "  </thead>\n",
       "  <tbody>\n",
       "    <tr>\n",
       "      <th>0</th>\n",
       "      <td>19</td>\n",
       "      <td>female</td>\n",
       "      <td>27.900</td>\n",
       "      <td>0</td>\n",
       "      <td>yes</td>\n",
       "      <td>southwest</td>\n",
       "      <td>16884.92400</td>\n",
       "    </tr>\n",
       "    <tr>\n",
       "      <th>1</th>\n",
       "      <td>18</td>\n",
       "      <td>male</td>\n",
       "      <td>33.770</td>\n",
       "      <td>1</td>\n",
       "      <td>no</td>\n",
       "      <td>southeast</td>\n",
       "      <td>1725.55230</td>\n",
       "    </tr>\n",
       "    <tr>\n",
       "      <th>2</th>\n",
       "      <td>28</td>\n",
       "      <td>male</td>\n",
       "      <td>33.000</td>\n",
       "      <td>3</td>\n",
       "      <td>no</td>\n",
       "      <td>southeast</td>\n",
       "      <td>4449.46200</td>\n",
       "    </tr>\n",
       "    <tr>\n",
       "      <th>3</th>\n",
       "      <td>33</td>\n",
       "      <td>male</td>\n",
       "      <td>22.705</td>\n",
       "      <td>0</td>\n",
       "      <td>no</td>\n",
       "      <td>northwest</td>\n",
       "      <td>21984.47061</td>\n",
       "    </tr>\n",
       "    <tr>\n",
       "      <th>4</th>\n",
       "      <td>32</td>\n",
       "      <td>male</td>\n",
       "      <td>28.880</td>\n",
       "      <td>0</td>\n",
       "      <td>no</td>\n",
       "      <td>northwest</td>\n",
       "      <td>3866.85520</td>\n",
       "    </tr>\n",
       "  </tbody>\n",
       "</table>\n",
       "</div>"
      ],
      "text/plain": [
       "   age     sex     bmi  children smoker     region      charges\n",
       "0   19  female  27.900         0    yes  southwest  16884.92400\n",
       "1   18    male  33.770         1     no  southeast   1725.55230\n",
       "2   28    male  33.000         3     no  southeast   4449.46200\n",
       "3   33    male  22.705         0     no  northwest  21984.47061\n",
       "4   32    male  28.880         0     no  northwest   3866.85520"
      ]
     },
     "execution_count": 4,
     "metadata": {},
     "output_type": "execute_result"
    }
   ],
   "source": [
    "med_df.head()"
   ]
  },
  {
   "cell_type": "code",
   "execution_count": 5,
   "id": "cca2fa8d",
   "metadata": {},
   "outputs": [
    {
     "data": {
      "text/plain": [
       "(1338, 7)"
      ]
     },
     "execution_count": 5,
     "metadata": {},
     "output_type": "execute_result"
    }
   ],
   "source": [
    "med_df.shape"
   ]
  },
  {
   "cell_type": "markdown",
   "id": "c9d3a772",
   "metadata": {},
   "source": [
    "# Checking Null values in the dataset"
   ]
  },
  {
   "cell_type": "code",
   "execution_count": 6,
   "id": "84300baf",
   "metadata": {},
   "outputs": [
    {
     "data": {
      "text/plain": [
       "age         0\n",
       "sex         0\n",
       "bmi         0\n",
       "children    0\n",
       "smoker      0\n",
       "region      0\n",
       "charges     0\n",
       "dtype: int64"
      ]
     },
     "execution_count": 6,
     "metadata": {},
     "output_type": "execute_result"
    }
   ],
   "source": [
    "med_df.isnull().sum()"
   ]
  },
  {
   "cell_type": "code",
   "execution_count": 7,
   "id": "d73ccfde",
   "metadata": {},
   "outputs": [
    {
     "data": {
      "text/plain": [
       "Index(['age', 'sex', 'bmi', 'children', 'smoker', 'region', 'charges'], dtype='object')"
      ]
     },
     "execution_count": 7,
     "metadata": {},
     "output_type": "execute_result"
    }
   ],
   "source": [
    "med_df.columns"
   ]
  },
  {
   "cell_type": "code",
   "execution_count": 8,
   "id": "92dd351c",
   "metadata": {},
   "outputs": [
    {
     "data": {
      "text/plain": [
       "age           int64\n",
       "sex          object\n",
       "bmi         float64\n",
       "children      int64\n",
       "smoker       object\n",
       "region       object\n",
       "charges     float64\n",
       "dtype: object"
      ]
     },
     "execution_count": 8,
     "metadata": {},
     "output_type": "execute_result"
    }
   ],
   "source": [
    "med_df.dtypes"
   ]
  },
  {
   "cell_type": "markdown",
   "id": "00b4a61b",
   "metadata": {},
   "source": [
    "# Making a dataframe for the Norminal data"
   ]
  },
  {
   "cell_type": "code",
   "execution_count": 9,
   "id": "963ac8d9",
   "metadata": {},
   "outputs": [],
   "source": [
    "med_df_norminal =med_df[['sex','smoker','region','children']].copy()"
   ]
  },
  {
   "cell_type": "code",
   "execution_count": 10,
   "id": "038da399",
   "metadata": {},
   "outputs": [
    {
     "data": {
      "text/plain": [
       "Index(['sex', 'smoker', 'region', 'children'], dtype='object')"
      ]
     },
     "execution_count": 10,
     "metadata": {},
     "output_type": "execute_result"
    }
   ],
   "source": [
    "med_df_norminal.columns"
   ]
  },
  {
   "cell_type": "markdown",
   "id": "150b9452",
   "metadata": {},
   "source": [
    "# Visualising the Data"
   ]
  },
  {
   "cell_type": "code",
   "execution_count": 11,
   "id": "8eebdaf8",
   "metadata": {},
   "outputs": [
    {
     "name": "stdout",
     "output_type": "stream",
     "text": [
      "male      676\n",
      "female    662\n",
      "Name: sex, dtype: int64\n"
     ]
    },
    {
     "data": {
      "image/png": "[encoded data removed]",
      "text/plain": [
       "<Figure size 432x288 with 1 Axes>"
      ]
     },
     "metadata": {
      "needs_background": "light"
     },
     "output_type": "display_data"
    }
   ],
   "source": [
    "ax = sns.countplot(x='sex', data=med_df_norminal)\n",
    "print(med_df_norminal['sex'].value_counts())"
   ]
  },
  {
   "cell_type": "markdown",
   "id": "300d83bc",
   "metadata": {},
   "source": [
    "The above shows a total number of males as 676 and total number of females 662, there is no significant differnce in the values"
   ]
  },
  {
   "cell_type": "code",
   "execution_count": 12,
   "id": "e3688553",
   "metadata": {},
   "outputs": [
    {
     "name": "stdout",
     "output_type": "stream",
     "text": [
      "no     1064\n",
      "yes     274\n",
      "Name: smoker, dtype: int64\n"
     ]
    },
    {
     "data": {
      "image/png": "[encoded data removed]",
      "text/plain": [
       "<Figure size 432x288 with 1 Axes>"
      ]
     },
     "metadata": {
      "needs_background": "light"
     },
     "output_type": "display_data"
    }
   ],
   "source": [
    "ax = sns.countplot(x = 'smoker', data= med_df_norminal)\n",
    "print(med_df_norminal['smoker'].value_counts())"
   ]
  },
  {
   "cell_type": "markdown",
   "id": "a51d21bc",
   "metadata": {},
   "source": [
    "For the smoker columns there is a significant difference between the smokers and non smokers with 274 as people who smokes and 1064 for people who do not smoke"
   ]
  },
  {
   "cell_type": "code",
   "execution_count": 13,
   "id": "342b0abe",
   "metadata": {},
   "outputs": [
    {
     "name": "stdout",
     "output_type": "stream",
     "text": [
      "southeast    364\n",
      "southwest    325\n",
      "northwest    325\n",
      "northeast    324\n",
      "Name: region, dtype: int64\n"
     ]
    },
    {
     "data": {
      "image/png": "[encoded data removed]",
      "text/plain": [
       "<Figure size 432x288 with 1 Axes>"
      ]
     },
     "metadata": {
      "needs_background": "light"
     },
     "output_type": "display_data"
    }
   ],
   "source": [
    "ax = sns.countplot(x ='region',data=med_df_norminal)\n",
    "print(med_df_norminal['region'].value_counts())"
   ]
  },
  {
   "cell_type": "markdown",
   "id": "9b0ac8da",
   "metadata": {},
   "source": [
    "For the region column, people who live in southeast appear to have the greatest count of 350, and 325 for people in southwest, northwest and northeast, here the differece is not significant"
   ]
  },
  {
   "cell_type": "code",
   "execution_count": 14,
   "id": "035c743b",
   "metadata": {},
   "outputs": [
    {
     "name": "stdout",
     "output_type": "stream",
     "text": [
      "0    574\n",
      "1    324\n",
      "2    240\n",
      "3    157\n",
      "4     25\n",
      "5     18\n",
      "Name: children, dtype: int64\n"
     ]
    },
    {
     "data": {
      "image/png": "[encoded data removed]",
      "text/plain": [
       "<Figure size 432x288 with 1 Axes>"
      ]
     },
     "metadata": {
      "needs_background": "light"
     },
     "output_type": "display_data"
    }
   ],
   "source": [
    "ax = sns.countplot(x ='children',data=med_df_norminal)\n",
    "print(med_df_norminal['children'].value_counts())"
   ]
  },
  {
   "cell_type": "markdown",
   "id": "39c392b3",
   "metadata": {},
   "source": [
    "For the children column a high number of people do not have children, very few have 4 and 5 children and the rest range from 1 child to 3 children"
   ]
  },
  {
   "cell_type": "markdown",
   "id": "4fd12093",
   "metadata": {},
   "source": [
    "# Making a dataframe of ordinal data"
   ]
  },
  {
   "cell_type": "code",
   "execution_count": 15,
   "id": "20faf34f",
   "metadata": {},
   "outputs": [],
   "source": [
    "med_ordinal = med_df[['bmi']].copy()"
   ]
  },
  {
   "cell_type": "code",
   "execution_count": 66,
   "id": "3b92f52f",
   "metadata": {},
   "outputs": [
    {
     "data": {
      "image/png": "[encoded data removed]",
      "text/plain": [
       "<Figure size 864x360 with 1 Axes>"
      ]
     },
     "metadata": {
      "needs_background": "light"
     },
     "output_type": "display_data"
    }
   ],
   "source": [
    "plt.figure(figsize=(12,5))\n",
    "plt.title(\"Distribution of bmi\")\n",
    "ax = sns.distplot(med_df[\"bmi\"], color = 'c')"
   ]
  },
  {
   "cell_type": "markdown",
   "id": "558437be",
   "metadata": {},
   "source": [
    "For the bmi column, majority have bmi ranging from 25 to 40 with few below 25 and above 50"
   ]
  },
  {
   "cell_type": "markdown",
   "id": "a2255457",
   "metadata": {},
   "source": [
    "# Checking the distribution of the continuous value of the float type columns"
   ]
  },
  {
   "cell_type": "code",
   "execution_count": 17,
   "id": "6743109d",
   "metadata": {},
   "outputs": [],
   "source": [
    "med_continous = med_df[['charges']].copy()"
   ]
  },
  {
   "cell_type": "code",
   "execution_count": 18,
   "id": "7d6a8803",
   "metadata": {},
   "outputs": [
    {
     "data": {
      "text/plain": [
       "<seaborn.axisgrid.FacetGrid at 0x1c474b12400>"
      ]
     },
     "execution_count": 18,
     "metadata": {},
     "output_type": "execute_result"
    },
    {
     "data": {
      "image/png": "[encoded data removed]",
      "text/plain": [
       "<Figure size 360x360 with 1 Axes>"
      ]
     },
     "metadata": {
      "needs_background": "light"
     },
     "output_type": "display_data"
    }
   ],
   "source": [
    "sns.displot(med_continous['charges'],kde=True)"
   ]
  },
  {
   "cell_type": "markdown",
   "id": "9eac92ae",
   "metadata": {},
   "source": []
  },
  {
   "cell_type": "code",
   "execution_count": null,
   "id": "4cf6eeee",
   "metadata": {},
   "outputs": [],
   "source": []
  },
  {
   "cell_type": "code",
   "execution_count": 50,
   "id": "836c179e",
   "metadata": {},
   "outputs": [
    {
     "data": {
      "text/html": [
       "<div>\n",
       "<style scoped>\n",
       "    .dataframe tbody tr th:only-of-type {\n",
       "        vertical-align: middle;\n",
       "    }\n",
       "\n",
       "    .dataframe tbody tr th {\n",
       "        vertical-align: top;\n",
       "    }\n",
       "\n",
       "    .dataframe thead th {\n",
       "        text-align: right;\n",
       "    }\n",
       "</style>\n",
       "<table border=\"1\" class=\"dataframe\">\n",
       "  <thead>\n",
       "    <tr style=\"text-align: right;\">\n",
       "      <th></th>\n",
       "      <th>age</th>\n",
       "      <th>sex</th>\n",
       "      <th>bmi</th>\n",
       "      <th>children</th>\n",
       "      <th>smoker</th>\n",
       "      <th>region</th>\n",
       "      <th>charges</th>\n",
       "    </tr>\n",
       "  </thead>\n",
       "  <tbody>\n",
       "    <tr>\n",
       "      <th>0</th>\n",
       "      <td>19</td>\n",
       "      <td>0.0</td>\n",
       "      <td>27.900</td>\n",
       "      <td>0</td>\n",
       "      <td>1.0</td>\n",
       "      <td>3.0</td>\n",
       "      <td>16884.92400</td>\n",
       "    </tr>\n",
       "    <tr>\n",
       "      <th>11</th>\n",
       "      <td>62</td>\n",
       "      <td>0.0</td>\n",
       "      <td>26.290</td>\n",
       "      <td>0</td>\n",
       "      <td>1.0</td>\n",
       "      <td>2.0</td>\n",
       "      <td>27808.72510</td>\n",
       "    </tr>\n",
       "    <tr>\n",
       "      <th>14</th>\n",
       "      <td>27</td>\n",
       "      <td>1.0</td>\n",
       "      <td>42.130</td>\n",
       "      <td>0</td>\n",
       "      <td>1.0</td>\n",
       "      <td>2.0</td>\n",
       "      <td>39611.75770</td>\n",
       "    </tr>\n",
       "    <tr>\n",
       "      <th>19</th>\n",
       "      <td>30</td>\n",
       "      <td>1.0</td>\n",
       "      <td>35.300</td>\n",
       "      <td>0</td>\n",
       "      <td>1.0</td>\n",
       "      <td>3.0</td>\n",
       "      <td>36837.46700</td>\n",
       "    </tr>\n",
       "    <tr>\n",
       "      <th>23</th>\n",
       "      <td>34</td>\n",
       "      <td>0.0</td>\n",
       "      <td>31.920</td>\n",
       "      <td>1</td>\n",
       "      <td>1.0</td>\n",
       "      <td>0.0</td>\n",
       "      <td>37701.87680</td>\n",
       "    </tr>\n",
       "    <tr>\n",
       "      <th>...</th>\n",
       "      <td>...</td>\n",
       "      <td>...</td>\n",
       "      <td>...</td>\n",
       "      <td>...</td>\n",
       "      <td>...</td>\n",
       "      <td>...</td>\n",
       "      <td>...</td>\n",
       "    </tr>\n",
       "    <tr>\n",
       "      <th>1313</th>\n",
       "      <td>19</td>\n",
       "      <td>0.0</td>\n",
       "      <td>34.700</td>\n",
       "      <td>2</td>\n",
       "      <td>1.0</td>\n",
       "      <td>3.0</td>\n",
       "      <td>36397.57600</td>\n",
       "    </tr>\n",
       "    <tr>\n",
       "      <th>1314</th>\n",
       "      <td>30</td>\n",
       "      <td>0.0</td>\n",
       "      <td>23.655</td>\n",
       "      <td>3</td>\n",
       "      <td>1.0</td>\n",
       "      <td>1.0</td>\n",
       "      <td>18765.87545</td>\n",
       "    </tr>\n",
       "    <tr>\n",
       "      <th>1321</th>\n",
       "      <td>62</td>\n",
       "      <td>1.0</td>\n",
       "      <td>26.695</td>\n",
       "      <td>0</td>\n",
       "      <td>1.0</td>\n",
       "      <td>0.0</td>\n",
       "      <td>28101.33305</td>\n",
       "    </tr>\n",
       "    <tr>\n",
       "      <th>1323</th>\n",
       "      <td>42</td>\n",
       "      <td>0.0</td>\n",
       "      <td>40.370</td>\n",
       "      <td>2</td>\n",
       "      <td>1.0</td>\n",
       "      <td>2.0</td>\n",
       "      <td>43896.37630</td>\n",
       "    </tr>\n",
       "    <tr>\n",
       "      <th>1337</th>\n",
       "      <td>61</td>\n",
       "      <td>0.0</td>\n",
       "      <td>29.070</td>\n",
       "      <td>0</td>\n",
       "      <td>1.0</td>\n",
       "      <td>1.0</td>\n",
       "      <td>29141.36030</td>\n",
       "    </tr>\n",
       "  </tbody>\n",
       "</table>\n",
       "<p>274 rows × 7 columns</p>\n",
       "</div>"
      ],
      "text/plain": [
       "      age  sex     bmi  children  smoker  region      charges\n",
       "0      19  0.0  27.900         0     1.0     3.0  16884.92400\n",
       "11     62  0.0  26.290         0     1.0     2.0  27808.72510\n",
       "14     27  1.0  42.130         0     1.0     2.0  39611.75770\n",
       "19     30  1.0  35.300         0     1.0     3.0  36837.46700\n",
       "23     34  0.0  31.920         1     1.0     0.0  37701.87680\n",
       "...   ...  ...     ...       ...     ...     ...          ...\n",
       "1313   19  0.0  34.700         2     1.0     3.0  36397.57600\n",
       "1314   30  0.0  23.655         3     1.0     1.0  18765.87545\n",
       "1321   62  1.0  26.695         0     1.0     0.0  28101.33305\n",
       "1323   42  0.0  40.370         2     1.0     2.0  43896.37630\n",
       "1337   61  0.0  29.070         0     1.0     1.0  29141.36030\n",
       "\n",
       "[274 rows x 7 columns]"
      ]
     },
     "execution_count": 50,
     "metadata": {},
     "output_type": "execute_result"
    }
   ],
   "source": [
    "med_df[(med_df.smoker == 1)]"
   ]
  },
  {
   "cell_type": "markdown",
   "id": "4c6ce220",
   "metadata": {},
   "source": [
    "# Encoding of Dataframe\n",
    "we will encode the data because of the string values in the data set"
   ]
  },
  {
   "cell_type": "code",
   "execution_count": 19,
   "id": "5c53a472",
   "metadata": {},
   "outputs": [],
   "source": [
    "enc = OrdinalEncoder()"
   ]
  },
  {
   "cell_type": "code",
   "execution_count": 20,
   "id": "35d78927",
   "metadata": {},
   "outputs": [],
   "source": [
    "for i in med_df.columns:\n",
    "    if med_df[i].dtypes == 'object':\n",
    "        med_df[i]=enc.fit_transform(med_df[i].values.reshape(-1,1))"
   ]
  },
  {
   "cell_type": "code",
   "execution_count": 21,
   "id": "6141095b",
   "metadata": {},
   "outputs": [
    {
     "data": {
      "text/html": [
       "<div>\n",
       "<style scoped>\n",
       "    .dataframe tbody tr th:only-of-type {\n",
       "        vertical-align: middle;\n",
       "    }\n",
       "\n",
       "    .dataframe tbody tr th {\n",
       "        vertical-align: top;\n",
       "    }\n",
       "\n",
       "    .dataframe thead th {\n",
       "        text-align: right;\n",
       "    }\n",
       "</style>\n",
       "<table border=\"1\" class=\"dataframe\">\n",
       "  <thead>\n",
       "    <tr style=\"text-align: right;\">\n",
       "      <th></th>\n",
       "      <th>age</th>\n",
       "      <th>sex</th>\n",
       "      <th>bmi</th>\n",
       "      <th>children</th>\n",
       "      <th>smoker</th>\n",
       "      <th>region</th>\n",
       "      <th>charges</th>\n",
       "    </tr>\n",
       "  </thead>\n",
       "  <tbody>\n",
       "    <tr>\n",
       "      <th>0</th>\n",
       "      <td>19</td>\n",
       "      <td>0.0</td>\n",
       "      <td>27.900</td>\n",
       "      <td>0</td>\n",
       "      <td>1.0</td>\n",
       "      <td>3.0</td>\n",
       "      <td>16884.92400</td>\n",
       "    </tr>\n",
       "    <tr>\n",
       "      <th>1</th>\n",
       "      <td>18</td>\n",
       "      <td>1.0</td>\n",
       "      <td>33.770</td>\n",
       "      <td>1</td>\n",
       "      <td>0.0</td>\n",
       "      <td>2.0</td>\n",
       "      <td>1725.55230</td>\n",
       "    </tr>\n",
       "    <tr>\n",
       "      <th>2</th>\n",
       "      <td>28</td>\n",
       "      <td>1.0</td>\n",
       "      <td>33.000</td>\n",
       "      <td>3</td>\n",
       "      <td>0.0</td>\n",
       "      <td>2.0</td>\n",
       "      <td>4449.46200</td>\n",
       "    </tr>\n",
       "    <tr>\n",
       "      <th>3</th>\n",
       "      <td>33</td>\n",
       "      <td>1.0</td>\n",
       "      <td>22.705</td>\n",
       "      <td>0</td>\n",
       "      <td>0.0</td>\n",
       "      <td>1.0</td>\n",
       "      <td>21984.47061</td>\n",
       "    </tr>\n",
       "    <tr>\n",
       "      <th>4</th>\n",
       "      <td>32</td>\n",
       "      <td>1.0</td>\n",
       "      <td>28.880</td>\n",
       "      <td>0</td>\n",
       "      <td>0.0</td>\n",
       "      <td>1.0</td>\n",
       "      <td>3866.85520</td>\n",
       "    </tr>\n",
       "    <tr>\n",
       "      <th>...</th>\n",
       "      <td>...</td>\n",
       "      <td>...</td>\n",
       "      <td>...</td>\n",
       "      <td>...</td>\n",
       "      <td>...</td>\n",
       "      <td>...</td>\n",
       "      <td>...</td>\n",
       "    </tr>\n",
       "    <tr>\n",
       "      <th>1333</th>\n",
       "      <td>50</td>\n",
       "      <td>1.0</td>\n",
       "      <td>30.970</td>\n",
       "      <td>3</td>\n",
       "      <td>0.0</td>\n",
       "      <td>1.0</td>\n",
       "      <td>10600.54830</td>\n",
       "    </tr>\n",
       "    <tr>\n",
       "      <th>1334</th>\n",
       "      <td>18</td>\n",
       "      <td>0.0</td>\n",
       "      <td>31.920</td>\n",
       "      <td>0</td>\n",
       "      <td>0.0</td>\n",
       "      <td>0.0</td>\n",
       "      <td>2205.98080</td>\n",
       "    </tr>\n",
       "    <tr>\n",
       "      <th>1335</th>\n",
       "      <td>18</td>\n",
       "      <td>0.0</td>\n",
       "      <td>36.850</td>\n",
       "      <td>0</td>\n",
       "      <td>0.0</td>\n",
       "      <td>2.0</td>\n",
       "      <td>1629.83350</td>\n",
       "    </tr>\n",
       "    <tr>\n",
       "      <th>1336</th>\n",
       "      <td>21</td>\n",
       "      <td>0.0</td>\n",
       "      <td>25.800</td>\n",
       "      <td>0</td>\n",
       "      <td>0.0</td>\n",
       "      <td>3.0</td>\n",
       "      <td>2007.94500</td>\n",
       "    </tr>\n",
       "    <tr>\n",
       "      <th>1337</th>\n",
       "      <td>61</td>\n",
       "      <td>0.0</td>\n",
       "      <td>29.070</td>\n",
       "      <td>0</td>\n",
       "      <td>1.0</td>\n",
       "      <td>1.0</td>\n",
       "      <td>29141.36030</td>\n",
       "    </tr>\n",
       "  </tbody>\n",
       "</table>\n",
       "<p>1338 rows × 7 columns</p>\n",
       "</div>"
      ],
      "text/plain": [
       "      age  sex     bmi  children  smoker  region      charges\n",
       "0      19  0.0  27.900         0     1.0     3.0  16884.92400\n",
       "1      18  1.0  33.770         1     0.0     2.0   1725.55230\n",
       "2      28  1.0  33.000         3     0.0     2.0   4449.46200\n",
       "3      33  1.0  22.705         0     0.0     1.0  21984.47061\n",
       "4      32  1.0  28.880         0     0.0     1.0   3866.85520\n",
       "...   ...  ...     ...       ...     ...     ...          ...\n",
       "1333   50  1.0  30.970         3     0.0     1.0  10600.54830\n",
       "1334   18  0.0  31.920         0     0.0     0.0   2205.98080\n",
       "1335   18  0.0  36.850         0     0.0     2.0   1629.83350\n",
       "1336   21  0.0  25.800         0     0.0     3.0   2007.94500\n",
       "1337   61  0.0  29.070         0     1.0     1.0  29141.36030\n",
       "\n",
       "[1338 rows x 7 columns]"
      ]
     },
     "execution_count": 21,
     "metadata": {},
     "output_type": "execute_result"
    }
   ],
   "source": [
    "med_df"
   ]
  },
  {
   "cell_type": "markdown",
   "id": "d6ebc04b",
   "metadata": {},
   "source": [
    "### Checking the distribution of the feature columns with the target column"
   ]
  },
  {
   "cell_type": "code",
   "execution_count": 56,
   "id": "df012f88",
   "metadata": {},
   "outputs": [
    {
     "data": {
      "text/plain": [
       "Text(0.5, 1.0, 'Distribution of charges for non-smokers')"
      ]
     },
     "execution_count": 56,
     "metadata": {},
     "output_type": "execute_result"
    },
    {
     "data": {
      "image/png": "[encoded data removed]",
      "text/plain": [
       "<Figure size 864x360 with 2 Axes>"
      ]
     },
     "metadata": {
      "needs_background": "light"
     },
     "output_type": "display_data"
    }
   ],
   "source": [
    "plot = plt.figure(figsize=(12,5))\n",
    "\n",
    "ax=plot.add_subplot(121)\n",
    "sns.distplot(med_df[(med_df.smoker == 1)][\"charges\"],color='c',ax=ax)\n",
    "ax.set_title('Distribution of charges for smokers')\n",
    "\n",
    "ax=plot.add_subplot(122)\n",
    "sns.distplot(med_df[(med_df.smoker == 0)]['charges'],color='b',ax=ax)\n",
    "ax.set_title('Distribution of charges for non-smokers')"
   ]
  },
  {
   "cell_type": "markdown",
   "id": "3f1ee6e1",
   "metadata": {},
   "source": [
    "fromm the above, smoking people spend more on insurance"
   ]
  },
  {
   "cell_type": "code",
   "execution_count": 63,
   "id": "1c6afca0",
   "metadata": {},
   "outputs": [
    {
     "data": {
      "text/plain": [
       "<AxesSubplot:title={'center':'Box plot for charges of males'}, xlabel='charges', ylabel='smoker'>"
      ]
     },
     "execution_count": 63,
     "metadata": {},
     "output_type": "execute_result"
    },
    {
     "data": {
      "image/png": "[encoded data removed]",
      "text/plain": [
       "<Figure size 864x360 with 1 Axes>"
      ]
     },
     "metadata": {
      "needs_background": "light"
     },
     "output_type": "display_data"
    }
   ],
   "source": [
    "plt.figure(figsize=(12,5)) #boxplot of charges of smoking and non smoking males\n",
    "plt.title(\"Box plot for charges of males\")\n",
    "sns.boxplot(y=\"smoker\", x=\"charges\", data =  med_df[(med_df.sex == 1)] , orient=\"h\")"
   ]
  },
  {
   "cell_type": "code",
   "execution_count": 62,
   "id": "1c789fe6",
   "metadata": {},
   "outputs": [
    {
     "data": {
      "text/plain": [
       "<AxesSubplot:title={'center':'Box plot for charges of females'}, xlabel='charges', ylabel='smoker'>"
      ]
     },
     "execution_count": 62,
     "metadata": {},
     "output_type": "execute_result"
    },
    {
     "data": {
      "image/png": "[encoded data removed]",
      "text/plain": [
       "<Figure size 864x360 with 1 Axes>"
      ]
     },
     "metadata": {
      "needs_background": "light"
     },
     "output_type": "display_data"
    }
   ],
   "source": [
    "plt.figure(figsize=(12,5)) #boxplot of charges of smoking and non smoking males\n",
    "plt.title(\"Box plot for charges of females\")\n",
    "sns.boxplot(y=\"smoker\", x=\"charges\", data =  med_df[(med_df.sex == 0)] , orient=\"h\")"
   ]
  },
  {
   "cell_type": "code",
   "execution_count": 65,
   "id": "927dde5f",
   "metadata": {},
   "outputs": [
    {
     "data": {
      "image/png": "[encoded data removed]",
      "text/plain": [
       "<Figure size 864x360 with 1 Axes>"
      ]
     },
     "metadata": {
      "needs_background": "light"
     },
     "output_type": "display_data"
    }
   ],
   "source": [
    "plt.figure(figsize=(12,5)) # distribution of ages\n",
    "plt.title(\"Distribution of age\")\n",
    "ax = sns.distplot(med_df[\"age\"], color = 'b')"
   ]
  },
  {
   "cell_type": "markdown",
   "id": "8952d512",
   "metadata": {},
   "source": [
    "The minimum age is around 18 years and maximun is around 64 years"
   ]
  },
  {
   "cell_type": "markdown",
   "id": "7755f6df",
   "metadata": {},
   "source": [
    "## Statistical summary of the dataset"
   ]
  },
  {
   "cell_type": "code",
   "execution_count": 22,
   "id": "9238ac8a",
   "metadata": {},
   "outputs": [
    {
     "data": {
      "text/html": [
       "<div>\n",
       "<style scoped>\n",
       "    .dataframe tbody tr th:only-of-type {\n",
       "        vertical-align: middle;\n",
       "    }\n",
       "\n",
       "    .dataframe tbody tr th {\n",
       "        vertical-align: top;\n",
       "    }\n",
       "\n",
       "    .dataframe thead th {\n",
       "        text-align: right;\n",
       "    }\n",
       "</style>\n",
       "<table border=\"1\" class=\"dataframe\">\n",
       "  <thead>\n",
       "    <tr style=\"text-align: right;\">\n",
       "      <th></th>\n",
       "      <th>age</th>\n",
       "      <th>sex</th>\n",
       "      <th>bmi</th>\n",
       "      <th>children</th>\n",
       "      <th>smoker</th>\n",
       "      <th>region</th>\n",
       "      <th>charges</th>\n",
       "    </tr>\n",
       "  </thead>\n",
       "  <tbody>\n",
       "    <tr>\n",
       "      <th>count</th>\n",
       "      <td>1338.000000</td>\n",
       "      <td>1338.000000</td>\n",
       "      <td>1338.000000</td>\n",
       "      <td>1338.000000</td>\n",
       "      <td>1338.000000</td>\n",
       "      <td>1338.000000</td>\n",
       "      <td>1338.000000</td>\n",
       "    </tr>\n",
       "    <tr>\n",
       "      <th>mean</th>\n",
       "      <td>39.207025</td>\n",
       "      <td>0.505232</td>\n",
       "      <td>30.663397</td>\n",
       "      <td>1.094918</td>\n",
       "      <td>0.204783</td>\n",
       "      <td>1.515695</td>\n",
       "      <td>13270.422265</td>\n",
       "    </tr>\n",
       "    <tr>\n",
       "      <th>std</th>\n",
       "      <td>14.049960</td>\n",
       "      <td>0.500160</td>\n",
       "      <td>6.098187</td>\n",
       "      <td>1.205493</td>\n",
       "      <td>0.403694</td>\n",
       "      <td>1.104885</td>\n",
       "      <td>12110.011237</td>\n",
       "    </tr>\n",
       "    <tr>\n",
       "      <th>min</th>\n",
       "      <td>18.000000</td>\n",
       "      <td>0.000000</td>\n",
       "      <td>15.960000</td>\n",
       "      <td>0.000000</td>\n",
       "      <td>0.000000</td>\n",
       "      <td>0.000000</td>\n",
       "      <td>1121.873900</td>\n",
       "    </tr>\n",
       "    <tr>\n",
       "      <th>25%</th>\n",
       "      <td>27.000000</td>\n",
       "      <td>0.000000</td>\n",
       "      <td>26.296250</td>\n",
       "      <td>0.000000</td>\n",
       "      <td>0.000000</td>\n",
       "      <td>1.000000</td>\n",
       "      <td>4740.287150</td>\n",
       "    </tr>\n",
       "    <tr>\n",
       "      <th>50%</th>\n",
       "      <td>39.000000</td>\n",
       "      <td>1.000000</td>\n",
       "      <td>30.400000</td>\n",
       "      <td>1.000000</td>\n",
       "      <td>0.000000</td>\n",
       "      <td>2.000000</td>\n",
       "      <td>9382.033000</td>\n",
       "    </tr>\n",
       "    <tr>\n",
       "      <th>75%</th>\n",
       "      <td>51.000000</td>\n",
       "      <td>1.000000</td>\n",
       "      <td>34.693750</td>\n",
       "      <td>2.000000</td>\n",
       "      <td>0.000000</td>\n",
       "      <td>2.000000</td>\n",
       "      <td>16639.912515</td>\n",
       "    </tr>\n",
       "    <tr>\n",
       "      <th>max</th>\n",
       "      <td>64.000000</td>\n",
       "      <td>1.000000</td>\n",
       "      <td>53.130000</td>\n",
       "      <td>5.000000</td>\n",
       "      <td>1.000000</td>\n",
       "      <td>3.000000</td>\n",
       "      <td>63770.428010</td>\n",
       "    </tr>\n",
       "  </tbody>\n",
       "</table>\n",
       "</div>"
      ],
      "text/plain": [
       "               age          sex          bmi     children       smoker  \\\n",
       "count  1338.000000  1338.000000  1338.000000  1338.000000  1338.000000   \n",
       "mean     39.207025     0.505232    30.663397     1.094918     0.204783   \n",
       "std      14.049960     0.500160     6.098187     1.205493     0.403694   \n",
       "min      18.000000     0.000000    15.960000     0.000000     0.000000   \n",
       "25%      27.000000     0.000000    26.296250     0.000000     0.000000   \n",
       "50%      39.000000     1.000000    30.400000     1.000000     0.000000   \n",
       "75%      51.000000     1.000000    34.693750     2.000000     0.000000   \n",
       "max      64.000000     1.000000    53.130000     5.000000     1.000000   \n",
       "\n",
       "            region       charges  \n",
       "count  1338.000000   1338.000000  \n",
       "mean      1.515695  13270.422265  \n",
       "std       1.104885  12110.011237  \n",
       "min       0.000000   1121.873900  \n",
       "25%       1.000000   4740.287150  \n",
       "50%       2.000000   9382.033000  \n",
       "75%       2.000000  16639.912515  \n",
       "max       3.000000  63770.428010  "
      ]
     },
     "execution_count": 22,
     "metadata": {},
     "output_type": "execute_result"
    }
   ],
   "source": [
    "med_df.describe()"
   ]
  },
  {
   "cell_type": "code",
   "execution_count": 23,
   "id": "a76cb71f",
   "metadata": {},
   "outputs": [
    {
     "data": {
      "text/plain": [
       "<AxesSubplot:>"
      ]
     },
     "execution_count": 23,
     "metadata": {},
     "output_type": "execute_result"
    },
    {
     "data": {
      "image/png": "[encoded data removed]",
      "text/plain": [
       "<Figure size 1584x504 with 2 Axes>"
      ]
     },
     "metadata": {
      "needs_background": "light"
     },
     "output_type": "display_data"
    }
   ],
   "source": [
    "plt.figure(figsize=(22,7))\n",
    "sns.heatmap(med_df.describe(),annot=True,linewidth=0.1,linecolor='black',fmt='0.2f')"
   ]
  },
  {
   "cell_type": "markdown",
   "id": "351bff34",
   "metadata": {},
   "source": [
    "# Correlation of the colums with the target columns\n"
   ]
  },
  {
   "cell_type": "code",
   "execution_count": 24,
   "id": "0f94859e",
   "metadata": {},
   "outputs": [
    {
     "data": {
      "text/plain": [
       "region     -0.006208\n",
       "sex         0.057292\n",
       "children    0.067998\n",
       "bmi         0.198341\n",
       "age         0.299008\n",
       "smoker      0.787251\n",
       "charges     1.000000\n",
       "Name: charges, dtype: float64"
      ]
     },
     "execution_count": 24,
     "metadata": {},
     "output_type": "execute_result"
    }
   ],
   "source": [
    "med_df.corr()['charges'].sort_values() # checking the relationship between the independent variable and the target variable"
   ]
  },
  {
   "cell_type": "code",
   "execution_count": 25,
   "id": "bc22f209",
   "metadata": {},
   "outputs": [
    {
     "data": {
      "text/plain": [
       "<AxesSubplot:>"
      ]
     },
     "execution_count": 25,
     "metadata": {},
     "output_type": "execute_result"
    },
    {
     "data": {
      "image/png": "[encoded data removed]",
      "text/plain": [
       "<Figure size 1584x504 with 2 Axes>"
      ]
     },
     "metadata": {
      "needs_background": "light"
     },
     "output_type": "display_data"
    }
   ],
   "source": [
    "plt.figure(figsize=(22,7))\n",
    "sns.heatmap(med_df.corr(),annot=True,linewidths =0.1, linecolor='black',fmt='0.2f')"
   ]
  },
  {
   "cell_type": "markdown",
   "id": "9709cff6",
   "metadata": {},
   "source": [
    "checking the columns which are positively and negatively correlated with target column"
   ]
  },
  {
   "cell_type": "code",
   "execution_count": 26,
   "id": "313d0417",
   "metadata": {},
   "outputs": [
    {
     "data": {
      "image/png": "[encoded data removed]",
      "text/plain": [
       "<Figure size 1584x504 with 1 Axes>"
      ]
     },
     "metadata": {
      "needs_background": "light"
     },
     "output_type": "display_data"
    }
   ],
   "source": [
    "plt.figure(figsize=(22,7))\n",
    "med_df.corr()['charges'].sort_values(ascending=False).drop(['charges']).plot(kind='bar',color='c')\n",
    "plt.xlabel('Feature',fontsize=14)\n",
    "plt.ylabel('column with target names',fontsize=14)\n",
    "plt.title('Correlation',fontsize = 18)\n",
    "plt.show()"
   ]
  },
  {
   "cell_type": "markdown",
   "id": "2d8384bc",
   "metadata": {},
   "source": [
    "# Checking skewness"
   ]
  },
  {
   "cell_type": "code",
   "execution_count": 27,
   "id": "bbf9d39d",
   "metadata": {},
   "outputs": [
    {
     "data": {
      "text/plain": [
       "age         0.055673\n",
       "sex        -0.020951\n",
       "bmi         0.284047\n",
       "children    0.938380\n",
       "smoker      1.464766\n",
       "region     -0.038101\n",
       "charges     1.515880\n",
       "dtype: float64"
      ]
     },
     "execution_count": 27,
     "metadata": {},
     "output_type": "execute_result"
    }
   ],
   "source": [
    "med_df.skew()"
   ]
  },
  {
   "cell_type": "markdown",
   "id": "c2ea7de3",
   "metadata": {},
   "source": [
    "range of skewness is kept at +/-0.5, and colums which do not lie within this range are:\n",
    "1. smoker - categorical\n",
    "2. children - categorical\n",
    "3. charges - target variable\n",
    "\n",
    "since all are categorical, mean cannot be relied on so we will not threat them "
   ]
  },
  {
   "cell_type": "markdown",
   "id": "63050f60",
   "metadata": {},
   "source": [
    "# checking the outliers on the columns"
   ]
  },
  {
   "cell_type": "code",
   "execution_count": 28,
   "id": "373925d1",
   "metadata": {},
   "outputs": [
    {
     "data": {
      "text/plain": [
       "age           int64\n",
       "sex         float64\n",
       "bmi         float64\n",
       "children      int64\n",
       "smoker      float64\n",
       "region      float64\n",
       "charges     float64\n",
       "dtype: object"
      ]
     },
     "execution_count": 28,
     "metadata": {},
     "output_type": "execute_result"
    }
   ],
   "source": [
    "med_df.dtypes"
   ]
  },
  {
   "cell_type": "code",
   "execution_count": 29,
   "id": "961a4a6c",
   "metadata": {},
   "outputs": [
    {
     "data": {
      "text/plain": [
       "<AxesSubplot:>"
      ]
     },
     "execution_count": 29,
     "metadata": {},
     "output_type": "execute_result"
    },
    {
     "data": {
      "image/png": "[encoded data removed]",
      "text/plain": [
       "<Figure size 432x288 with 1 Axes>"
      ]
     },
     "metadata": {
      "needs_background": "light"
     },
     "output_type": "display_data"
    }
   ],
   "source": [
    "med_df['age'].plot.box()"
   ]
  },
  {
   "cell_type": "code",
   "execution_count": 30,
   "id": "001d366f",
   "metadata": {},
   "outputs": [
    {
     "data": {
      "text/plain": [
       "<AxesSubplot:>"
      ]
     },
     "execution_count": 30,
     "metadata": {},
     "output_type": "execute_result"
    },
    {
     "data": {
      "image/png": "[encoded data removed]",
      "text/plain": [
       "<Figure size 432x288 with 1 Axes>"
      ]
     },
     "metadata": {
      "needs_background": "light"
     },
     "output_type": "display_data"
    }
   ],
   "source": [
    "med_df['sex'].plot.box()"
   ]
  },
  {
   "cell_type": "code",
   "execution_count": 31,
   "id": "2575b2f1",
   "metadata": {},
   "outputs": [
    {
     "data": {
      "text/plain": [
       "<AxesSubplot:>"
      ]
     },
     "execution_count": 31,
     "metadata": {},
     "output_type": "execute_result"
    },
    {
     "data": {
      "image/png": "[encoded data removed]",
      "text/plain": [
       "<Figure size 432x288 with 1 Axes>"
      ]
     },
     "metadata": {
      "needs_background": "light"
     },
     "output_type": "display_data"
    }
   ],
   "source": [
    "med_df['charges'].plot.box()"
   ]
  },
  {
   "cell_type": "code",
   "execution_count": 32,
   "id": "f3e9a020",
   "metadata": {},
   "outputs": [
    {
     "data": {
      "text/plain": [
       "<AxesSubplot:>"
      ]
     },
     "execution_count": 32,
     "metadata": {},
     "output_type": "execute_result"
    },
    {
     "data": {
      "image/png": "[encoded data removed]",
      "text/plain": [
       "<Figure size 432x288 with 1 Axes>"
      ]
     },
     "metadata": {
      "needs_background": "light"
     },
     "output_type": "display_data"
    }
   ],
   "source": [
    "med_df['smoker'].plot.box()"
   ]
  },
  {
   "cell_type": "code",
   "execution_count": 33,
   "id": "7fcc0a55",
   "metadata": {},
   "outputs": [
    {
     "data": {
      "text/plain": [
       "<AxesSubplot:>"
      ]
     },
     "execution_count": 33,
     "metadata": {},
     "output_type": "execute_result"
    },
    {
     "data": {
      "image/png": "[encoded data removed]",
      "text/plain": [
       "<Figure size 432x288 with 1 Axes>"
      ]
     },
     "metadata": {
      "needs_background": "light"
     },
     "output_type": "display_data"
    }
   ],
   "source": [
    "med_df['region'].plot.box()"
   ]
  },
  {
   "cell_type": "code",
   "execution_count": 34,
   "id": "82433f66",
   "metadata": {},
   "outputs": [
    {
     "data": {
      "text/plain": [
       "<AxesSubplot:>"
      ]
     },
     "execution_count": 34,
     "metadata": {},
     "output_type": "execute_result"
    },
    {
     "data": {
      "image/png": "[encoded data removed]",
      "text/plain": [
       "<Figure size 432x288 with 1 Axes>"
      ]
     },
     "metadata": {
      "needs_background": "light"
     },
     "output_type": "display_data"
    }
   ],
   "source": [
    "med_df['bmi'].plot.box()"
   ]
  },
  {
   "cell_type": "code",
   "execution_count": 35,
   "id": "e64fe2db",
   "metadata": {},
   "outputs": [
    {
     "data": {
      "text/plain": [
       "<AxesSubplot:>"
      ]
     },
     "execution_count": 35,
     "metadata": {},
     "output_type": "execute_result"
    },
    {
     "data": {
      "image/png": "[encoded data removed]",
      "text/plain": [
       "<Figure size 432x288 with 1 Axes>"
      ]
     },
     "metadata": {
      "needs_background": "light"
     },
     "output_type": "display_data"
    }
   ],
   "source": [
    "med_df['children'].plot.box()"
   ]
  },
  {
   "cell_type": "code",
   "execution_count": 36,
   "id": "f22fca36",
   "metadata": {},
   "outputs": [
    {
     "data": {
      "text/plain": [
       "array([27.9  , 33.77 , 33.   , 22.705, 28.88 , 25.74 , 33.44 , 27.74 ,\n",
       "       29.83 , 25.84 , 26.22 , 26.29 , 34.4  , 39.82 , 42.13 , 24.6  ,\n",
       "       30.78 , 23.845, 40.3  , 35.3  , 36.005, 32.4  , 34.1  , 31.92 ,\n",
       "       28.025, 27.72 , 23.085, 32.775, 17.385, 36.3  , 35.6  , 26.315,\n",
       "       28.6  , 28.31 , 36.4  , 20.425, 32.965, 20.8  , 36.67 , 39.9  ,\n",
       "       26.6  , 36.63 , 21.78 , 30.8  , 37.05 , 37.3  , 38.665, 34.77 ,\n",
       "       24.53 , 35.2  , 35.625, 33.63 , 28.   , 34.43 , 28.69 , 36.955,\n",
       "       31.825, 31.68 , 22.88 , 37.335, 27.36 , 33.66 , 24.7  , 25.935,\n",
       "       22.42 , 28.9  , 39.1  , 36.19 , 23.98 , 24.75 , 28.5  , 28.1  ,\n",
       "       32.01 , 27.4  , 34.01 , 29.59 , 35.53 , 39.805, 26.885, 38.285,\n",
       "       37.62 , 41.23 , 34.8  , 22.895, 31.16 , 27.2  , 26.98 , 39.49 ,\n",
       "       24.795, 31.3  , 38.28 , 19.95 , 19.3  , 31.6  , 25.46 , 30.115,\n",
       "       29.92 , 27.5  , 28.4  , 30.875, 27.94 , 35.09 , 29.7  , 35.72 ,\n",
       "       32.205, 28.595, 49.06 , 27.17 , 23.37 , 37.1  , 23.75 , 28.975,\n",
       "       31.35 , 33.915, 28.785, 28.3  , 37.4  , 17.765, 34.7  , 26.505,\n",
       "       22.04 , 35.9  , 25.555, 28.05 , 25.175, 31.9  , 36.   , 32.49 ,\n",
       "       25.3  , 29.735, 38.83 , 30.495, 37.73 , 37.43 , 24.13 , 37.145,\n",
       "       39.52 , 24.42 , 27.83 , 36.85 , 39.6  , 29.8  , 29.64 , 28.215,\n",
       "       37.   , 33.155, 18.905, 41.47 , 30.3  , 15.96 , 33.345, 37.7  ,\n",
       "       27.835, 29.2  , 26.41 , 30.69 , 41.895, 30.9  , 32.2  , 32.11 ,\n",
       "       31.57 , 26.2  , 30.59 , 32.8  , 18.05 , 39.33 , 32.23 , 24.035,\n",
       "       36.08 , 22.3  , 26.4  , 31.8  , 26.73 , 23.1  , 23.21 , 33.7  ,\n",
       "       33.25 , 24.64 , 33.88 , 38.06 , 41.91 , 31.635, 36.195, 17.8  ,\n",
       "       24.51 , 22.22 , 38.39 , 29.07 , 22.135, 26.8  , 30.02 , 35.86 ,\n",
       "       20.9  , 17.29 , 34.21 , 25.365, 40.15 , 24.415, 25.2  , 26.84 ,\n",
       "       24.32 , 42.35 , 19.8  , 32.395, 30.2  , 29.37 , 34.2  , 27.455,\n",
       "       27.55 , 20.615, 24.3  , 31.79 , 21.56 , 28.12 , 40.565, 27.645,\n",
       "       31.2  , 26.62 , 48.07 , 36.765, 33.4  , 45.54 , 28.82 , 22.99 ,\n",
       "       27.7  , 25.41 , 34.39 , 22.61 , 37.51 , 38.   , 33.33 , 34.865,\n",
       "       33.06 , 35.97 , 31.4  , 25.27 , 40.945, 34.105, 36.48 , 33.8  ,\n",
       "       36.7  , 36.385, 34.5  , 32.3  , 27.6  , 29.26 , 35.75 , 23.18 ,\n",
       "       25.6  , 35.245, 43.89 , 20.79 , 30.5  , 21.7  , 21.89 , 24.985,\n",
       "       32.015, 30.4  , 21.09 , 22.23 , 32.9  , 24.89 , 31.46 , 17.955,\n",
       "       30.685, 43.34 , 39.05 , 30.21 , 31.445, 19.855, 31.02 , 38.17 ,\n",
       "       20.6  , 47.52 , 20.4  , 38.38 , 24.31 , 23.6  , 21.12 , 30.03 ,\n",
       "       17.48 , 20.235, 17.195, 23.9  , 35.15 , 35.64 , 22.6  , 39.16 ,\n",
       "       27.265, 29.165, 16.815, 33.1  , 26.9  , 33.11 , 31.73 , 46.75 ,\n",
       "       29.45 , 32.68 , 33.5  , 43.01 , 36.52 , 26.695, 25.65 , 29.6  ,\n",
       "       38.6  , 23.4  , 46.53 , 30.14 , 30.   , 38.095, 28.38 , 28.7  ,\n",
       "       33.82 , 24.09 , 32.67 , 25.1  , 32.56 , 41.325, 39.5  , 34.3  ,\n",
       "       31.065, 21.47 , 25.08 , 43.4  , 25.7  , 27.93 , 39.2  , 26.03 ,\n",
       "       30.25 , 28.93 , 35.7  , 35.31 , 31.   , 44.22 , 26.07 , 25.8  ,\n",
       "       39.425, 40.48 , 38.9  , 47.41 , 35.435, 46.7  , 46.2  , 21.4  ,\n",
       "       23.8  , 44.77 , 32.12 , 29.1  , 37.29 , 43.12 , 36.86 , 34.295,\n",
       "       23.465, 45.43 , 23.65 , 20.7  , 28.27 , 35.91 , 29.   , 19.57 ,\n",
       "       31.13 , 21.85 , 40.26 , 33.725, 29.48 , 32.6  , 37.525, 23.655,\n",
       "       37.8  , 19.   , 21.3  , 33.535, 42.46 , 38.95 , 36.1  , 29.3  ,\n",
       "       39.7  , 38.19 , 42.4  , 34.96 , 42.68 , 31.54 , 29.81 , 21.375,\n",
       "       40.81 , 17.4  , 20.3  , 18.5  , 26.125, 41.69 , 24.1  , 36.2  ,\n",
       "       40.185, 39.27 , 34.87 , 44.745, 29.545, 23.54 , 40.47 , 40.66 ,\n",
       "       36.6  , 35.4  , 27.075, 28.405, 21.755, 40.28 , 30.1  , 32.1  ,\n",
       "       23.7  , 35.5  , 29.15 , 27.   , 37.905, 22.77 , 22.8  , 34.58 ,\n",
       "       27.1  , 19.475, 26.7  , 34.32 , 24.4  , 41.14 , 22.515, 41.8  ,\n",
       "       26.18 , 42.24 , 26.51 , 35.815, 41.42 , 36.575, 42.94 , 21.01 ,\n",
       "       24.225, 17.67 , 31.5  , 31.1  , 32.78 , 32.45 , 50.38 , 47.6  ,\n",
       "       25.4  , 29.9  , 43.7  , 24.86 , 28.8  , 29.5  , 29.04 , 38.94 ,\n",
       "       44.   , 20.045, 40.92 , 35.1  , 29.355, 32.585, 32.34 , 39.8  ,\n",
       "       24.605, 33.99 , 28.2  , 25.   , 33.2  , 23.2  , 20.1  , 32.5  ,\n",
       "       37.18 , 46.09 , 39.93 , 35.8  , 31.255, 18.335, 42.9  , 26.79 ,\n",
       "       39.615, 25.9  , 25.745, 28.16 , 23.56 , 40.5  , 35.42 , 39.995,\n",
       "       34.675, 20.52 , 23.275, 36.29 , 32.7  , 19.19 , 20.13 , 23.32 ,\n",
       "       45.32 , 34.6  , 18.715, 21.565, 23.   , 37.07 , 52.58 , 42.655,\n",
       "       21.66 , 32.   , 18.3  , 47.74 , 22.1  , 19.095, 31.24 , 29.925,\n",
       "       20.35 , 25.85 , 42.75 , 18.6  , 23.87 , 45.9  , 21.5  , 30.305,\n",
       "       44.88 , 41.1  , 40.37 , 28.49 , 33.55 , 40.375, 27.28 , 17.86 ,\n",
       "       33.3  , 39.14 , 21.945, 24.97 , 23.94 , 34.485, 21.8  , 23.3  ,\n",
       "       36.96 , 21.28 , 29.4  , 27.3  , 37.9  , 37.715, 23.76 , 25.52 ,\n",
       "       27.61 , 27.06 , 39.4  , 34.9  , 22.   , 30.36 , 27.8  , 53.13 ,\n",
       "       39.71 , 32.87 , 44.7  , 30.97 ])"
      ]
     },
     "execution_count": 36,
     "metadata": {},
     "output_type": "execute_result"
    }
   ],
   "source": [
    "med_df['bmi'].unique()"
   ]
  },
  {
   "cell_type": "code",
   "execution_count": 37,
   "id": "450caf75",
   "metadata": {},
   "outputs": [
    {
     "data": {
      "text/plain": [
       "array([1., 0.])"
      ]
     },
     "execution_count": 37,
     "metadata": {},
     "output_type": "execute_result"
    }
   ],
   "source": [
    "med_df['smoker'].unique() #cheching the unique values of smoker column"
   ]
  },
  {
   "cell_type": "markdown",
   "id": "dd843d14",
   "metadata": {},
   "source": [
    "From the boxplots above bmi, smoker and charges column have some outliers, but we will ignore smoker and charges since smoker is a categorical column and charges is our target column. we will deal with bmi"
   ]
  },
  {
   "cell_type": "markdown",
   "id": "98c43b02",
   "metadata": {},
   "source": [
    "# Removing outliers"
   ]
  },
  {
   "cell_type": "code",
   "execution_count": 39,
   "id": "d1dca680",
   "metadata": {},
   "outputs": [
    {
     "data": {
      "text/plain": [
       "(1338, 7)"
      ]
     },
     "execution_count": 39,
     "metadata": {},
     "output_type": "execute_result"
    }
   ],
   "source": [
    "med_df.shape"
   ]
  },
  {
   "cell_type": "code",
   "execution_count": 41,
   "id": "f75fc4bc",
   "metadata": {},
   "outputs": [
    {
     "data": {
      "text/plain": [
       "(array([  32,   34,   71,  116,  166,  413,  425,  438,  543,  568,  577,\n",
       "         640,  819,  847,  877,  932,  937,  969,  984, 1047, 1085, 1116,\n",
       "        1130, 1146, 1230, 1245, 1272, 1300, 1317], dtype=int64),\n",
       " array([3, 6, 3, 2, 3, 3, 3, 3, 6, 3, 6, 3, 6, 2, 3, 3, 3, 3, 3, 2, 3, 3,\n",
       "        3, 6, 6, 3, 3, 6, 2], dtype=int64))"
      ]
     },
     "execution_count": 41,
     "metadata": {},
     "output_type": "execute_result"
    }
   ],
   "source": [
    "z = np.abs(zscore(med_df))\n",
    "threshold=3\n",
    "np.where(z>3)"
   ]
  },
  {
   "cell_type": "code",
   "execution_count": 43,
   "id": "9ef402bf",
   "metadata": {},
   "outputs": [
    {
     "data": {
      "text/html": [
       "<div>\n",
       "<style scoped>\n",
       "    .dataframe tbody tr th:only-of-type {\n",
       "        vertical-align: middle;\n",
       "    }\n",
       "\n",
       "    .dataframe tbody tr th {\n",
       "        vertical-align: top;\n",
       "    }\n",
       "\n",
       "    .dataframe thead th {\n",
       "        text-align: right;\n",
       "    }\n",
       "</style>\n",
       "<table border=\"1\" class=\"dataframe\">\n",
       "  <thead>\n",
       "    <tr style=\"text-align: right;\">\n",
       "      <th></th>\n",
       "      <th>age</th>\n",
       "      <th>sex</th>\n",
       "      <th>bmi</th>\n",
       "      <th>children</th>\n",
       "      <th>smoker</th>\n",
       "      <th>region</th>\n",
       "      <th>charges</th>\n",
       "    </tr>\n",
       "  </thead>\n",
       "  <tbody>\n",
       "    <tr>\n",
       "      <th>0</th>\n",
       "      <td>19</td>\n",
       "      <td>0.0</td>\n",
       "      <td>27.900</td>\n",
       "      <td>0</td>\n",
       "      <td>1.0</td>\n",
       "      <td>3.0</td>\n",
       "      <td>16884.92400</td>\n",
       "    </tr>\n",
       "    <tr>\n",
       "      <th>1</th>\n",
       "      <td>18</td>\n",
       "      <td>1.0</td>\n",
       "      <td>33.770</td>\n",
       "      <td>1</td>\n",
       "      <td>0.0</td>\n",
       "      <td>2.0</td>\n",
       "      <td>1725.55230</td>\n",
       "    </tr>\n",
       "    <tr>\n",
       "      <th>2</th>\n",
       "      <td>28</td>\n",
       "      <td>1.0</td>\n",
       "      <td>33.000</td>\n",
       "      <td>3</td>\n",
       "      <td>0.0</td>\n",
       "      <td>2.0</td>\n",
       "      <td>4449.46200</td>\n",
       "    </tr>\n",
       "    <tr>\n",
       "      <th>3</th>\n",
       "      <td>33</td>\n",
       "      <td>1.0</td>\n",
       "      <td>22.705</td>\n",
       "      <td>0</td>\n",
       "      <td>0.0</td>\n",
       "      <td>1.0</td>\n",
       "      <td>21984.47061</td>\n",
       "    </tr>\n",
       "    <tr>\n",
       "      <th>4</th>\n",
       "      <td>32</td>\n",
       "      <td>1.0</td>\n",
       "      <td>28.880</td>\n",
       "      <td>0</td>\n",
       "      <td>0.0</td>\n",
       "      <td>1.0</td>\n",
       "      <td>3866.85520</td>\n",
       "    </tr>\n",
       "    <tr>\n",
       "      <th>...</th>\n",
       "      <td>...</td>\n",
       "      <td>...</td>\n",
       "      <td>...</td>\n",
       "      <td>...</td>\n",
       "      <td>...</td>\n",
       "      <td>...</td>\n",
       "      <td>...</td>\n",
       "    </tr>\n",
       "    <tr>\n",
       "      <th>1333</th>\n",
       "      <td>50</td>\n",
       "      <td>1.0</td>\n",
       "      <td>30.970</td>\n",
       "      <td>3</td>\n",
       "      <td>0.0</td>\n",
       "      <td>1.0</td>\n",
       "      <td>10600.54830</td>\n",
       "    </tr>\n",
       "    <tr>\n",
       "      <th>1334</th>\n",
       "      <td>18</td>\n",
       "      <td>0.0</td>\n",
       "      <td>31.920</td>\n",
       "      <td>0</td>\n",
       "      <td>0.0</td>\n",
       "      <td>0.0</td>\n",
       "      <td>2205.98080</td>\n",
       "    </tr>\n",
       "    <tr>\n",
       "      <th>1335</th>\n",
       "      <td>18</td>\n",
       "      <td>0.0</td>\n",
       "      <td>36.850</td>\n",
       "      <td>0</td>\n",
       "      <td>0.0</td>\n",
       "      <td>2.0</td>\n",
       "      <td>1629.83350</td>\n",
       "    </tr>\n",
       "    <tr>\n",
       "      <th>1336</th>\n",
       "      <td>21</td>\n",
       "      <td>0.0</td>\n",
       "      <td>25.800</td>\n",
       "      <td>0</td>\n",
       "      <td>0.0</td>\n",
       "      <td>3.0</td>\n",
       "      <td>2007.94500</td>\n",
       "    </tr>\n",
       "    <tr>\n",
       "      <th>1337</th>\n",
       "      <td>61</td>\n",
       "      <td>0.0</td>\n",
       "      <td>29.070</td>\n",
       "      <td>0</td>\n",
       "      <td>1.0</td>\n",
       "      <td>1.0</td>\n",
       "      <td>29141.36030</td>\n",
       "    </tr>\n",
       "  </tbody>\n",
       "</table>\n",
       "<p>1309 rows × 7 columns</p>\n",
       "</div>"
      ],
      "text/plain": [
       "      age  sex     bmi  children  smoker  region      charges\n",
       "0      19  0.0  27.900         0     1.0     3.0  16884.92400\n",
       "1      18  1.0  33.770         1     0.0     2.0   1725.55230\n",
       "2      28  1.0  33.000         3     0.0     2.0   4449.46200\n",
       "3      33  1.0  22.705         0     0.0     1.0  21984.47061\n",
       "4      32  1.0  28.880         0     0.0     1.0   3866.85520\n",
       "...   ...  ...     ...       ...     ...     ...          ...\n",
       "1333   50  1.0  30.970         3     0.0     1.0  10600.54830\n",
       "1334   18  0.0  31.920         0     0.0     0.0   2205.98080\n",
       "1335   18  0.0  36.850         0     0.0     2.0   1629.83350\n",
       "1336   21  0.0  25.800         0     0.0     3.0   2007.94500\n",
       "1337   61  0.0  29.070         0     1.0     1.0  29141.36030\n",
       "\n",
       "[1309 rows x 7 columns]"
      ]
     },
     "execution_count": 43,
     "metadata": {},
     "output_type": "execute_result"
    }
   ],
   "source": [
    "med_df_new = med_df[(z<3).all(axis = 1)]\n",
    "med_df_new"
   ]
  },
  {
   "cell_type": "markdown",
   "id": "6e7aaf4c",
   "metadata": {},
   "source": [
    "## Percentage data loss"
   ]
  },
  {
   "cell_type": "code",
   "execution_count": 47,
   "id": "b4dcc50a",
   "metadata": {},
   "outputs": [
    {
     "data": {
      "text/plain": [
       "2.167414050822123"
      ]
     },
     "execution_count": 47,
     "metadata": {},
     "output_type": "execute_result"
    }
   ],
   "source": [
    "Data_loss = ((1338 - 1309)/1338)*100\n",
    "Data_loss"
   ]
  },
  {
   "cell_type": "markdown",
   "id": "ae09bd08",
   "metadata": {},
   "source": [
    "outliers will not be removed since most of the colums with outliers are categorical data and the target column"
   ]
  },
  {
   "cell_type": "markdown",
   "id": "ca413858",
   "metadata": {},
   "source": [
    "### Splitting the dataset into features and target"
   ]
  },
  {
   "cell_type": "code",
   "execution_count": 71,
   "id": "40d3f2c1",
   "metadata": {},
   "outputs": [],
   "source": [
    "x = med_df.drop('charges',axis=1)\n",
    "y = med_df['charges']"
   ]
  },
  {
   "cell_type": "markdown",
   "id": "16386019",
   "metadata": {},
   "source": [
    "### Scaling the data and fitting a machine learning  model"
   ]
  },
  {
   "cell_type": "code",
   "execution_count": 78,
   "id": "40a8335f",
   "metadata": {},
   "outputs": [],
   "source": [
    "mms = MinMaxScaler()\n",
    "lr = LinearRegression()"
   ]
  },
  {
   "cell_type": "code",
   "execution_count": 80,
   "id": "ca3c0b80",
   "metadata": {},
   "outputs": [
    {
     "name": "stdout",
     "output_type": "stream",
     "text": [
      "At random state 0, the training accuracy is:- 0.7368306228430944\n",
      "At random state 0, the testing accuracy is:- 0.7998747145449959\n",
      "\n",
      "\n",
      "At random state 1, the training accuracy is:- 0.7475615631933097\n",
      "At random state 1, the testing accuracy is:- 0.7623224022563388\n",
      "\n",
      "\n",
      "At random state 2, the training accuracy is:- 0.7519923667088932\n",
      "At random state 2, the testing accuracy is:- 0.7445422986536503\n",
      "\n",
      "\n",
      "At random state 3, the training accuracy is:- 0.7530732192579027\n",
      "At random state 3, the testing accuracy is:- 0.7406256738597918\n",
      "\n",
      "\n",
      "At random state 4, the training accuracy is:- 0.7605730367332922\n",
      "At random state 4, the testing accuracy is:- 0.697009948917221\n",
      "\n",
      "\n",
      "At random state 5, the training accuracy is:- 0.7427518003973261\n",
      "At random state 5, the testing accuracy is:- 0.7790865933969187\n",
      "\n",
      "\n",
      "At random state 6, the training accuracy is:- 0.7433828393740967\n",
      "At random state 6, the testing accuracy is:- 0.7785295914318422\n",
      "\n",
      "\n",
      "At random state 7, the training accuracy is:- 0.7465780121439667\n",
      "At random state 7, the testing accuracy is:- 0.7644939656224734\n",
      "\n",
      "\n",
      "At random state 8, the training accuracy is:- 0.7557745757308063\n",
      "At random state 8, the testing accuracy is:- 0.7250569658128252\n",
      "\n",
      "\n",
      "At random state 9, the training accuracy is:- 0.7440253259062534\n",
      "At random state 9, the testing accuracy is:- 0.7778683760574732\n",
      "\n",
      "\n",
      "At random state 10, the training accuracy is:- 0.7633895728397835\n",
      "At random state 10, the testing accuracy is:- 0.6957010622294885\n",
      "\n",
      "\n",
      "At random state 11, the training accuracy is:- 0.7388805137721673\n",
      "At random state 11, the testing accuracy is:- 0.7993819717035825\n",
      "\n",
      "\n",
      "At random state 12, the training accuracy is:- 0.7604261748179022\n",
      "At random state 12, the testing accuracy is:- 0.7096380405273459\n",
      "\n",
      "\n",
      "At random state 13, the training accuracy is:- 0.7383786360613591\n",
      "At random state 13, the testing accuracy is:- 0.7989255552370542\n",
      "\n",
      "\n",
      "At random state 14, the training accuracy is:- 0.7556143184371016\n",
      "At random state 14, the testing accuracy is:- 0.7294640312702891\n",
      "\n",
      "\n",
      "At random state 15, the training accuracy is:- 0.7453571898194261\n",
      "At random state 15, the testing accuracy is:- 0.7708744759820261\n",
      "\n",
      "\n",
      "At random state 16, the training accuracy is:- 0.7602477361178249\n",
      "At random state 16, the testing accuracy is:- 0.7075292952600163\n",
      "\n",
      "\n",
      "At random state 17, the training accuracy is:- 0.7517330722141087\n",
      "At random state 17, the testing accuracy is:- 0.734274573023299\n",
      "\n",
      "\n",
      "At random state 18, the training accuracy is:- 0.7460120119488914\n",
      "At random state 18, the testing accuracy is:- 0.765581674849249\n",
      "\n",
      "\n",
      "At random state 19, the training accuracy is:- 0.7512325193618925\n",
      "At random state 19, the testing accuracy is:- 0.7455822176310462\n",
      "\n",
      "\n",
      "At random state 20, the training accuracy is:- 0.7386289022941568\n",
      "At random state 20, the testing accuracy is:- 0.7960709949046045\n",
      "\n",
      "\n",
      "At random state 21, the training accuracy is:- 0.7540223665040874\n",
      "At random state 21, the testing accuracy is:- 0.7348136813877889\n",
      "\n",
      "\n",
      "At random state 22, the training accuracy is:- 0.7486056463218349\n",
      "At random state 22, the testing accuracy is:- 0.7577242096466303\n",
      "\n",
      "\n",
      "At random state 23, the training accuracy is:- 0.7492626993312902\n",
      "At random state 23, the testing accuracy is:- 0.7531430170965643\n",
      "\n",
      "\n",
      "At random state 24, the training accuracy is:- 0.7434426964668961\n",
      "At random state 24, the testing accuracy is:- 0.7765389470136033\n",
      "\n",
      "\n",
      "At random state 25, the training accuracy is:- 0.7483825584860884\n",
      "At random state 25, the testing accuracy is:- 0.7575797365475682\n",
      "\n",
      "\n",
      "At random state 26, the training accuracy is:- 0.7545580731074576\n",
      "At random state 26, the testing accuracy is:- 0.7344939925387854\n",
      "\n",
      "\n",
      "At random state 27, the training accuracy is:- 0.7551917365151264\n",
      "At random state 27, the testing accuracy is:- 0.7315462085856305\n",
      "\n",
      "\n",
      "At random state 28, the training accuracy is:- 0.7605090731839346\n",
      "At random state 28, the testing accuracy is:- 0.6955075965076163\n",
      "\n",
      "\n",
      "At random state 29, the training accuracy is:- 0.760462226392552\n",
      "At random state 29, the testing accuracy is:- 0.7105443958312565\n",
      "\n",
      "\n",
      "At random state 30, the training accuracy is:- 0.7475092736880848\n",
      "At random state 30, the testing accuracy is:- 0.7602344599010099\n",
      "\n",
      "\n",
      "At random state 31, the training accuracy is:- 0.7602789566363606\n",
      "At random state 31, the testing accuracy is:- 0.7062272358690904\n",
      "\n",
      "\n",
      "At random state 32, the training accuracy is:- 0.7435673740197568\n",
      "At random state 32, the testing accuracy is:- 0.7814888546122386\n",
      "\n",
      "\n",
      "At random state 33, the training accuracy is:- 0.7603319655217646\n",
      "At random state 33, the testing accuracy is:- 0.7013125618353473\n",
      "\n",
      "\n",
      "At random state 34, the training accuracy is:- 0.7514552383513079\n",
      "At random state 34, the testing accuracy is:- 0.7461578203319277\n",
      "\n",
      "\n",
      "At random state 35, the training accuracy is:- 0.7581326425332305\n",
      "At random state 35, the testing accuracy is:- 0.7211174878662854\n",
      "\n",
      "\n",
      "At random state 36, the training accuracy is:- 0.749732808987505\n",
      "At random state 36, the testing accuracy is:- 0.7533463363236209\n",
      "\n",
      "\n",
      "At random state 37, the training accuracy is:- 0.7561351921741966\n",
      "At random state 37, the testing accuracy is:- 0.7181708547983251\n",
      "\n",
      "\n",
      "At random state 38, the training accuracy is:- 0.7588520367938932\n",
      "At random state 38, the testing accuracy is:- 0.7093731922382558\n",
      "\n",
      "\n",
      "At random state 39, the training accuracy is:- 0.7508748832841629\n",
      "At random state 39, the testing accuracy is:- 0.749426988428108\n",
      "\n",
      "\n",
      "At random state 40, the training accuracy is:- 0.7547854301573506\n",
      "At random state 40, the testing accuracy is:- 0.7340463835777766\n",
      "\n",
      "\n",
      "At random state 41, the training accuracy is:- 0.7616269427107933\n",
      "At random state 41, the testing accuracy is:- 0.6848317051895286\n",
      "\n",
      "\n",
      "At random state 42, the training accuracy is:- 0.7417049283233981\n",
      "At random state 42, the testing accuracy is:- 0.7833463107364539\n",
      "\n",
      "\n",
      "At random state 43, the training accuracy is:- 0.7635858928710806\n",
      "At random state 43, the testing accuracy is:- 0.6939736014653857\n",
      "\n",
      "\n",
      "At random state 44, the training accuracy is:- 0.7497846167934157\n",
      "At random state 44, the testing accuracy is:- 0.7541477784775991\n",
      "\n",
      "\n",
      "At random state 45, the training accuracy is:- 0.7603656534083786\n",
      "At random state 45, the testing accuracy is:- 0.7035989194448835\n",
      "\n",
      "\n",
      "At random state 46, the training accuracy is:- 0.7460771715046237\n",
      "At random state 46, the testing accuracy is:- 0.7667175533084114\n",
      "\n",
      "\n",
      "At random state 47, the training accuracy is:- 0.7376059448076364\n",
      "At random state 47, the testing accuracy is:- 0.7993958934706318\n",
      "\n",
      "\n",
      "At random state 48, the training accuracy is:- 0.7488977809712661\n",
      "At random state 48, the testing accuracy is:- 0.7536026231469951\n",
      "\n",
      "\n",
      "At random state 49, the training accuracy is:- 0.7457456697513021\n",
      "At random state 49, the testing accuracy is:- 0.7679224122971995\n",
      "\n",
      "\n",
      "At random state 50, the training accuracy is:- 0.7399254680443018\n",
      "At random state 50, the testing accuracy is:- 0.7866124253214011\n",
      "\n",
      "\n",
      "At random state 51, the training accuracy is:- 0.7505617340307456\n",
      "At random state 51, the testing accuracy is:- 0.7493031580280478\n",
      "\n",
      "\n",
      "At random state 52, the training accuracy is:- 0.7623014239800219\n",
      "At random state 52, the testing accuracy is:- 0.6918453278527021\n",
      "\n",
      "\n",
      "At random state 53, the training accuracy is:- 0.7441831196835345\n",
      "At random state 53, the testing accuracy is:- 0.7730411118060608\n",
      "\n",
      "\n",
      "At random state 54, the training accuracy is:- 0.7706010644524729\n",
      "At random state 54, the testing accuracy is:- 0.6551659717360775\n",
      "\n",
      "\n",
      "At random state 55, the training accuracy is:- 0.762960944203996\n",
      "At random state 55, the testing accuracy is:- 0.6906826956305759\n",
      "\n",
      "\n",
      "At random state 56, the training accuracy is:- 0.7581157148587996\n",
      "At random state 56, the testing accuracy is:- 0.7099514097663596\n",
      "\n",
      "\n",
      "At random state 57, the training accuracy is:- 0.7438047542195427\n",
      "At random state 57, the testing accuracy is:- 0.7766936418255062\n",
      "\n",
      "\n",
      "At random state 58, the training accuracy is:- 0.7501776510943658\n",
      "At random state 58, the testing accuracy is:- 0.7519853968945414\n",
      "\n",
      "\n",
      "At random state 59, the training accuracy is:- 0.7363472914535547\n",
      "At random state 59, the testing accuracy is:- 0.7964661633827786\n",
      "\n",
      "\n",
      "At random state 60, the training accuracy is:- 0.7669701456826975\n",
      "At random state 60, the testing accuracy is:- 0.6714775133378288\n",
      "\n",
      "\n",
      "At random state 61, the training accuracy is:- 0.7563593030679041\n",
      "At random state 61, the testing accuracy is:- 0.7286693768649551\n",
      "\n",
      "\n",
      "At random state 62, the training accuracy is:- 0.7615423338399943\n",
      "At random state 62, the testing accuracy is:- 0.6848537585752448\n",
      "\n",
      "\n",
      "At random state 63, the training accuracy is:- 0.7544272772501068\n",
      "At random state 63, the testing accuracy is:- 0.7312189817356335\n",
      "\n",
      "\n",
      "At random state 64, the training accuracy is:- 0.7475680543111896\n",
      "At random state 64, the testing accuracy is:- 0.7622508746121971\n",
      "\n",
      "\n",
      "At random state 65, the training accuracy is:- 0.7563285989349712\n",
      "At random state 65, the testing accuracy is:- 0.7282324880167023\n",
      "\n",
      "\n",
      "At random state 66, the training accuracy is:- 0.7423646826933216\n",
      "At random state 66, the testing accuracy is:- 0.7782910086637809\n",
      "\n",
      "\n",
      "At random state 67, the training accuracy is:- 0.7519918133290118\n",
      "At random state 67, the testing accuracy is:- 0.7428805437507751\n",
      "\n",
      "\n",
      "At random state 68, the training accuracy is:- 0.745907757901799\n",
      "At random state 68, the testing accuracy is:- 0.7688184963140623\n",
      "\n",
      "\n",
      "At random state 69, the training accuracy is:- 0.7512896932167122\n",
      "At random state 69, the testing accuracy is:- 0.7437936173365167\n",
      "\n",
      "\n",
      "At random state 70, the training accuracy is:- 0.7673586286895642\n",
      "At random state 70, the testing accuracy is:- 0.6732398081392252\n",
      "\n",
      "\n",
      "At random state 71, the training accuracy is:- 0.7496534640606042\n",
      "At random state 71, the testing accuracy is:- 0.7523890751423534\n",
      "\n",
      "\n",
      "At random state 72, the training accuracy is:- 0.7533130837051747\n",
      "At random state 72, the testing accuracy is:- 0.7372940561367096\n",
      "\n",
      "\n"
     ]
    },
    {
     "name": "stdout",
     "output_type": "stream",
     "text": [
      "At random state 73, the training accuracy is:- 0.7600276697017112\n",
      "At random state 73, the testing accuracy is:- 0.7125501410188311\n",
      "\n",
      "\n",
      "At random state 74, the training accuracy is:- 0.7552340269469757\n",
      "At random state 74, the testing accuracy is:- 0.7321129831800581\n",
      "\n",
      "\n",
      "At random state 75, the training accuracy is:- 0.7475842998873623\n",
      "At random state 75, the testing accuracy is:- 0.7640309975597734\n",
      "\n",
      "\n",
      "At random state 76, the training accuracy is:- 0.7481202170717707\n",
      "At random state 76, the testing accuracy is:- 0.7605016434634551\n",
      "\n",
      "\n",
      "At random state 77, the training accuracy is:- 0.7509948897872426\n",
      "At random state 77, the testing accuracy is:- 0.7478473353232034\n",
      "\n",
      "\n",
      "At random state 78, the training accuracy is:- 0.7546801388870505\n",
      "At random state 78, the testing accuracy is:- 0.7324169810915189\n",
      "\n",
      "\n",
      "At random state 79, the training accuracy is:- 0.752779857016421\n",
      "At random state 79, the testing accuracy is:- 0.7400442323761762\n",
      "\n",
      "\n",
      "At random state 80, the training accuracy is:- 0.7505199633940698\n",
      "At random state 80, the testing accuracy is:- 0.748979382463947\n",
      "\n",
      "\n",
      "At random state 81, the training accuracy is:- 0.7570737755872579\n",
      "At random state 81, the testing accuracy is:- 0.7232829268798442\n",
      "\n",
      "\n",
      "At random state 82, the training accuracy is:- 0.7496327821483186\n",
      "At random state 82, the testing accuracy is:- 0.7534198474655437\n",
      "\n",
      "\n",
      "At random state 83, the training accuracy is:- 0.746758048486181\n",
      "At random state 83, the testing accuracy is:- 0.7628272181176492\n",
      "\n",
      "\n",
      "At random state 84, the training accuracy is:- 0.746073285282064\n",
      "At random state 84, the testing accuracy is:- 0.7699277885255037\n",
      "\n",
      "\n",
      "At random state 85, the training accuracy is:- 0.7572379942550618\n",
      "At random state 85, the testing accuracy is:- 0.7227040105532092\n",
      "\n",
      "\n",
      "At random state 86, the training accuracy is:- 0.7422057657651393\n",
      "At random state 86, the testing accuracy is:- 0.7817077229375042\n",
      "\n",
      "\n",
      "At random state 87, the training accuracy is:- 0.757085792537717\n",
      "At random state 87, the testing accuracy is:- 0.7135061029156816\n",
      "\n",
      "\n",
      "At random state 88, the training accuracy is:- 0.7439146059211437\n",
      "At random state 88, the testing accuracy is:- 0.7711896639590572\n",
      "\n",
      "\n",
      "At random state 89, the training accuracy is:- 0.7382181575577365\n",
      "At random state 89, the testing accuracy is:- 0.782454191154507\n",
      "\n",
      "\n",
      "At random state 90, the training accuracy is:- 0.7514657643080339\n",
      "At random state 90, the testing accuracy is:- 0.7445994293170438\n",
      "\n",
      "\n",
      "At random state 91, the training accuracy is:- 0.750672686827808\n",
      "At random state 91, the testing accuracy is:- 0.7478508258644073\n",
      "\n",
      "\n",
      "At random state 92, the training accuracy is:- 0.7467253477161024\n",
      "At random state 92, the testing accuracy is:- 0.7586467749339765\n",
      "\n",
      "\n",
      "At random state 93, the training accuracy is:- 0.7462433503998611\n",
      "At random state 93, the testing accuracy is:- 0.767474323309468\n",
      "\n",
      "\n",
      "At random state 94, the training accuracy is:- 0.7463452106894661\n",
      "At random state 94, the testing accuracy is:- 0.768263720817677\n",
      "\n",
      "\n",
      "At random state 95, the training accuracy is:- 0.7436639441312778\n",
      "At random state 95, the testing accuracy is:- 0.7777781737419391\n",
      "\n",
      "\n",
      "At random state 96, the training accuracy is:- 0.765494209545505\n",
      "At random state 96, the testing accuracy is:- 0.667679044972935\n",
      "\n",
      "\n",
      "At random state 97, the training accuracy is:- 0.7597597051476686\n",
      "At random state 97, the testing accuracy is:- 0.7112254059470214\n",
      "\n",
      "\n",
      "At random state 98, the training accuracy is:- 0.7539174248174374\n",
      "At random state 98, the testing accuracy is:- 0.7360534169887039\n",
      "\n",
      "\n",
      "At random state 99, the training accuracy is:- 0.7521877761879817\n",
      "At random state 99, the testing accuracy is:- 0.7406856516523257\n",
      "\n",
      "\n"
     ]
    }
   ],
   "source": [
    "for i in range(0,100):\n",
    "    x_train,x_test,y_train,y_test=train_test_split(x,y,test_size=0.2, random_state =i)\n",
    "    lr.fit(x_train,y_train)\n",
    "    pred_train = lr.predict(x_train)\n",
    "    pred_test = lr.predict(x_test)\n",
    "    print(f\"At random state {i}, the training accuracy is:- {r2_score(y_train, pred_train)}\")\n",
    "    print(f\"At random state {i}, the testing accuracy is:- {r2_score(y_test,pred_test)}\")\n",
    "    print('\\n')"
   ]
  },
  {
   "cell_type": "code",
   "execution_count": 81,
   "id": "421a2327",
   "metadata": {},
   "outputs": [],
   "source": [
    "x_train,x_test,y_train,y_test = train_test_split(x,y,test_size=0.2,random_state=11)"
   ]
  },
  {
   "cell_type": "code",
   "execution_count": 82,
   "id": "335b50cd",
   "metadata": {},
   "outputs": [
    {
     "data": {
      "text/plain": [
       "LinearRegression()"
      ]
     },
     "execution_count": 82,
     "metadata": {},
     "output_type": "execute_result"
    }
   ],
   "source": [
    "lr.fit(x_train,y_train)"
   ]
  },
  {
   "cell_type": "code",
   "execution_count": 83,
   "id": "e25aff2a",
   "metadata": {},
   "outputs": [],
   "source": [
    "pred_test = lr.predict(x_test)"
   ]
  },
  {
   "cell_type": "code",
   "execution_count": 84,
   "id": "90a8404d",
   "metadata": {},
   "outputs": [
    {
     "name": "stdout",
     "output_type": "stream",
     "text": [
      "0.7993819717035825\n"
     ]
    }
   ],
   "source": [
    "print(r2_score(y_test,pred_test))"
   ]
  },
  {
   "cell_type": "markdown",
   "id": "9aa1165a",
   "metadata": {},
   "source": [
    "### Cross validation of the model"
   ]
  },
  {
   "cell_type": "code",
   "execution_count": 87,
   "id": "88b23ad2",
   "metadata": {},
   "outputs": [
    {
     "name": "stdout",
     "output_type": "stream",
     "text": [
      " At cross fold 2 the cv score is 0.7486033254037108 and accuracy score for training is -0.8138563144651714 and accuracy for the testing is 0.7993819717035825\n",
      "\n",
      "\n",
      " At cross fold 3 the cv score is 0.7448455049684157 and accuracy score for training is -0.8138563144651714 and accuracy for the testing is 0.7993819717035825\n",
      "\n",
      "\n",
      " At cross fold 4 the cv score is 0.7465374465214437 and accuracy score for training is -0.8138563144651714 and accuracy for the testing is 0.7993819717035825\n",
      "\n",
      "\n",
      " At cross fold 5 the cv score is 0.7472559473580954 and accuracy score for training is -0.8138563144651714 and accuracy for the testing is 0.7993819717035825\n",
      "\n",
      "\n",
      " At cross fold 6 the cv score is 0.7458863313669323 and accuracy score for training is -0.8138563144651714 and accuracy for the testing is 0.7993819717035825\n",
      "\n",
      "\n",
      " At cross fold 7 the cv score is 0.745299186058202 and accuracy score for training is -0.8138563144651714 and accuracy for the testing is 0.7993819717035825\n",
      "\n",
      "\n",
      " At cross fold 8 the cv score is 0.7430633572874523 and accuracy score for training is -0.8138563144651714 and accuracy for the testing is 0.7993819717035825\n",
      "\n",
      "\n",
      " At cross fold 9 the cv score is 0.7432123565964318 and accuracy score for training is -0.8138563144651714 and accuracy for the testing is 0.7993819717035825\n",
      "\n",
      "\n"
     ]
    }
   ],
   "source": [
    "train_accuracy = r2_score(y_train,pred_train)\n",
    "test_accuracy = r2_score(y_test,pred_test)\n",
    "\n",
    "for i in range(2,10):\n",
    "    cv_score = cross_val_score(lr,x,y,cv=i)\n",
    "    cv_mean = cv_score.mean()\n",
    "    print(f\" At cross fold {i} the cv score is {cv_mean} and accuracy score for training is {train_accuracy} and accuracy for the testing is {test_accuracy}\")\n",
    "    print('\\n')"
   ]
  },
  {
   "cell_type": "markdown",
   "id": "1851128e",
   "metadata": {},
   "source": [
    "The number of folds do not change the accuracy and cv_score, so cv=7 is selected"
   ]
  },
  {
   "cell_type": "code",
   "execution_count": 103,
   "id": "f75829b6",
   "metadata": {},
   "outputs": [
    {
     "data": {
      "image/png": "[encoded data removed]",
      "text/plain": [
       "<Figure size 576x504 with 1 Axes>"
      ]
     },
     "metadata": {
      "needs_background": "light"
     },
     "output_type": "display_data"
    }
   ],
   "source": [
    "plt.figure(figsize =(8,7))\n",
    "plt.scatter(x=y_test,y=pred_test, color ='r')\n",
    "plt.plot(y_test,y_test, color ='black')\n",
    "plt.xlabel('Actual charges', fontsize=14)\n",
    "plt.ylabel('Predicted charges',fontsize=14)\n",
    "plt.title('Linear Regression',fontsize=18)\n",
    "plt.savefig('MLmodel.png')\n",
    "plt.show()"
   ]
  },
  {
   "cell_type": "markdown",
   "id": "641f3c7b",
   "metadata": {},
   "source": [
    "### Regularlization"
   ]
  },
  {
   "cell_type": "code",
   "execution_count": 106,
   "id": "952afe12",
   "metadata": {},
   "outputs": [
    {
     "name": "stdout",
     "output_type": "stream",
     "text": [
      "{'alpha': 10, 'random_state': 0}\n"
     ]
    }
   ],
   "source": [
    "parameters = {'alpha':[.0001, .001, .01, .1, 1, 10], 'random_state':list(range(0,10))}\n",
    "ls = Lasso()\n",
    "clf = GridSearchCV(ls,parameters)\n",
    "clf.fit(x_train,y_train)\n",
    "\n",
    "print(clf.best_params_)"
   ]
  },
  {
   "cell_type": "code",
   "execution_count": 107,
   "id": "6cbd1dac",
   "metadata": {},
   "outputs": [
    {
     "data": {
      "text/plain": [
       "73.88722293361825"
      ]
     },
     "execution_count": 107,
     "metadata": {},
     "output_type": "execute_result"
    }
   ],
   "source": [
    "ls = Lasso(alpha=10, random_state=0)\n",
    "ls.fit(x_train,y_train)\n",
    "ls_score_training = ls.score(x_train, y_train)\n",
    "pred_ls = ls.predict(x_test)\n",
    "ls_score_training*100"
   ]
  },
  {
   "cell_type": "code",
   "execution_count": 108,
   "id": "40f9b407",
   "metadata": {},
   "outputs": [],
   "source": [
    "pred_ls = ls.predict(x_train)"
   ]
  },
  {
   "cell_type": "code",
   "execution_count": 109,
   "id": "9696ca41",
   "metadata": {},
   "outputs": [
    {
     "data": {
      "text/plain": [
       "73.88722293361825"
      ]
     },
     "execution_count": 109,
     "metadata": {},
     "output_type": "execute_result"
    }
   ],
   "source": [
    "lss = r2_score(y_train,pred_ls)\n",
    "lss*100"
   ]
  },
  {
   "cell_type": "code",
   "execution_count": 114,
   "id": "e7101e80",
   "metadata": {},
   "outputs": [
    {
     "data": {
      "text/plain": [
       "74.53697580982029"
      ]
     },
     "execution_count": 114,
     "metadata": {},
     "output_type": "execute_result"
    }
   ],
   "source": [
    "cv_score = cross_val_score(ls,x,y,cv=7)\n",
    "cv_mean = cv_score.mean()\n",
    "cv_mean*100"
   ]
  },
  {
   "cell_type": "markdown",
   "id": "5f3461de",
   "metadata": {},
   "source": [
    "### Hyperparameter tunning"
   ]
  },
  {
   "cell_type": "code",
   "execution_count": 116,
   "id": "36e2df0a",
   "metadata": {},
   "outputs": [
    {
     "name": "stdout",
     "output_type": "stream",
     "text": [
      "{'criterion': 'mae', 'max_features': 'log2'}\n"
     ]
    }
   ],
   "source": [
    "parameters = {'criterion':['mse','mae'],'max_features':['auto','sqrt','log2']}\n",
    "\n",
    "rf = RandomForestRegressor()\n",
    "clf = GridSearchCV(rf,parameters)\n",
    "clf.fit(x_train, y_train)\n",
    "\n",
    "print(clf.best_params_)"
   ]
  },
  {
   "cell_type": "code",
   "execution_count": 121,
   "id": "a4d2e3fc",
   "metadata": {},
   "outputs": [
    {
     "name": "stdout",
     "output_type": "stream",
     "text": [
      "R2_score: 87.00043842467299\n",
      "cross val: 84.11869094966494\n"
     ]
    }
   ],
   "source": [
    "rf = RandomForestRegressor(criterion='mae',max_features='log2')\n",
    "rf.fit(x_train, y_train)\n",
    "rf.score(x_train, y_train)\n",
    "pred_decision = rf.predict(x_test)\n",
    "\n",
    "rfs = r2_score(y_test, pred_decision)\n",
    "print('R2_score:',rfs*100)\n",
    "\n",
    "rfscore = cross_val_score(rf,x,y,cv=5)\n",
    "rfc = rfscore.mean()\n",
    "print('cross val:', rfc*100)"
   ]
  },
  {
   "cell_type": "markdown",
   "id": "2a502dce",
   "metadata": {},
   "source": [
    "Final r2_score is 87% and cross validation is 84%"
   ]
  },
  {
   "cell_type": "code",
   "execution_count": 123,
   "id": "6b30217f",
   "metadata": {},
   "outputs": [],
   "source": [
    "import pickle #saving the model\n",
    "filename = 'medical_cost.pkl'\n",
    "pickle.dump(rf,open(filename, 'wb'))"
   ]
  },
  {
   "cell_type": "markdown",
   "id": "7366ffc7",
   "metadata": {},
   "source": [
    "### Conclusion"
   ]
  },
  {
   "cell_type": "code",
   "execution_count": 126,
   "id": "98025fcd",
   "metadata": {},
   "outputs": [
    {
     "data": {
      "text/plain": [
       "87.00043842467299"
      ]
     },
     "execution_count": 126,
     "metadata": {},
     "output_type": "execute_result"
    }
   ],
   "source": [
    "load_model = pickle.load(open('medical_cost.pkl','rb'))\n",
    "result = load_model.score(x_test,y_test)\n",
    "result*100"
   ]
  },
  {
   "cell_type": "code",
   "execution_count": 128,
   "id": "8b865206",
   "metadata": {},
   "outputs": [],
   "source": [
    "conclusion = pd.DataFrame([load_model.predict(x_test)[:],pred_decision[:]],index=['Predicted','original'])"
   ]
  },
  {
   "cell_type": "code",
   "execution_count": 129,
   "id": "f1ecb114",
   "metadata": {},
   "outputs": [
    {
     "data": {
      "text/html": [
       "<div>\n",
       "<style scoped>\n",
       "    .dataframe tbody tr th:only-of-type {\n",
       "        vertical-align: middle;\n",
       "    }\n",
       "\n",
       "    .dataframe tbody tr th {\n",
       "        vertical-align: top;\n",
       "    }\n",
       "\n",
       "    .dataframe thead th {\n",
       "        text-align: right;\n",
       "    }\n",
       "</style>\n",
       "<table border=\"1\" class=\"dataframe\">\n",
       "  <thead>\n",
       "    <tr style=\"text-align: right;\">\n",
       "      <th></th>\n",
       "      <th>0</th>\n",
       "      <th>1</th>\n",
       "      <th>2</th>\n",
       "      <th>3</th>\n",
       "      <th>4</th>\n",
       "      <th>5</th>\n",
       "      <th>6</th>\n",
       "      <th>7</th>\n",
       "      <th>8</th>\n",
       "      <th>9</th>\n",
       "      <th>...</th>\n",
       "      <th>258</th>\n",
       "      <th>259</th>\n",
       "      <th>260</th>\n",
       "      <th>261</th>\n",
       "      <th>262</th>\n",
       "      <th>263</th>\n",
       "      <th>264</th>\n",
       "      <th>265</th>\n",
       "      <th>266</th>\n",
       "      <th>267</th>\n",
       "    </tr>\n",
       "  </thead>\n",
       "  <tbody>\n",
       "    <tr>\n",
       "      <th>Predicted</th>\n",
       "      <td>33926.590932</td>\n",
       "      <td>4622.165958</td>\n",
       "      <td>7976.816597</td>\n",
       "      <td>8834.126499</td>\n",
       "      <td>10813.667964</td>\n",
       "      <td>14432.443029</td>\n",
       "      <td>6652.948685</td>\n",
       "      <td>15198.609201</td>\n",
       "      <td>15471.693005</td>\n",
       "      <td>39352.423525</td>\n",
       "      <td>...</td>\n",
       "      <td>3374.504189</td>\n",
       "      <td>7797.541596</td>\n",
       "      <td>7075.179483</td>\n",
       "      <td>7654.397766</td>\n",
       "      <td>3879.839006</td>\n",
       "      <td>7075.480699</td>\n",
       "      <td>6394.053238</td>\n",
       "      <td>2216.623866</td>\n",
       "      <td>6838.76863</td>\n",
       "      <td>11491.864316</td>\n",
       "    </tr>\n",
       "    <tr>\n",
       "      <th>original</th>\n",
       "      <td>33926.590932</td>\n",
       "      <td>4622.165958</td>\n",
       "      <td>7976.816597</td>\n",
       "      <td>8834.126499</td>\n",
       "      <td>10813.667964</td>\n",
       "      <td>14432.443029</td>\n",
       "      <td>6652.948685</td>\n",
       "      <td>15198.609201</td>\n",
       "      <td>15471.693005</td>\n",
       "      <td>39352.423525</td>\n",
       "      <td>...</td>\n",
       "      <td>3374.504189</td>\n",
       "      <td>7797.541596</td>\n",
       "      <td>7075.179483</td>\n",
       "      <td>7654.397766</td>\n",
       "      <td>3879.839006</td>\n",
       "      <td>7075.480699</td>\n",
       "      <td>6394.053238</td>\n",
       "      <td>2216.623866</td>\n",
       "      <td>6838.76863</td>\n",
       "      <td>11491.864316</td>\n",
       "    </tr>\n",
       "  </tbody>\n",
       "</table>\n",
       "<p>2 rows × 268 columns</p>\n",
       "</div>"
      ],
      "text/plain": [
       "                    0            1            2            3             4    \\\n",
       "Predicted  33926.590932  4622.165958  7976.816597  8834.126499  10813.667964   \n",
       "original   33926.590932  4622.165958  7976.816597  8834.126499  10813.667964   \n",
       "\n",
       "                    5            6             7             8    \\\n",
       "Predicted  14432.443029  6652.948685  15198.609201  15471.693005   \n",
       "original   14432.443029  6652.948685  15198.609201  15471.693005   \n",
       "\n",
       "                    9    ...          258          259          260  \\\n",
       "Predicted  39352.423525  ...  3374.504189  7797.541596  7075.179483   \n",
       "original   39352.423525  ...  3374.504189  7797.541596  7075.179483   \n",
       "\n",
       "                   261          262          263          264          265  \\\n",
       "Predicted  7654.397766  3879.839006  7075.480699  6394.053238  2216.623866   \n",
       "original   7654.397766  3879.839006  7075.480699  6394.053238  2216.623866   \n",
       "\n",
       "                  266           267  \n",
       "Predicted  6838.76863  11491.864316  \n",
       "original   6838.76863  11491.864316  \n",
       "\n",
       "[2 rows x 268 columns]"
      ]
     },
     "execution_count": 129,
     "metadata": {},
     "output_type": "execute_result"
    }
   ],
   "source": [
    "conclusion"
   ]
  },
  {
   "cell_type": "code",
   "execution_count": null,
   "id": "d9b02b61",
   "metadata": {},
   "outputs": [],
   "source": []
  }
 ],
 "metadata": {
  "kernelspec": {
   "display_name": "Python 3 (ipykernel)",
   "language": "python",
   "name": "python3"
  },
  "language_info": {
   "codemirror_mode": {
    "name": "ipython",
    "version": 3
   },
   "file_extension": ".py",
   "mimetype": "text/x-python",
   "name": "python",
   "nbconvert_exporter": "python",
   "pygments_lexer": "ipython3",
   "version": "3.9.12"
  }
 },
 "nbformat": 4,
 "nbformat_minor": 5
}
