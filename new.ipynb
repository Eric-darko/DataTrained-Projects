{
 "cells": [
  {
   "cell_type": "code",
   "execution_count": null,
   "id": "8f963b9b",
   "metadata": {},
   "outputs": [],
   "source": [
    "import pandas as pd\n",
    "import numpy as np\n",
    "import seaborn as sns\n",
    "\n",
    "%matplotlib inline\n",
    "import matplotlib.pyplot as plt"
   ]
  },
  {
   "cell_type": "code",
   "execution_count": null,
   "id": "d8ac3c2d",
   "metadata": {},
   "outputs": [],
   "source": [
    "df = pd.read_csv('https://raw.githubusercontent.com/dsrscientist/DSData/master/winequality-red.csv')"
   ]
  },
  {
   "cell_type": "code",
   "execution_count": null,
   "id": "6f81332a",
   "metadata": {},
   "outputs": [],
   "source": [
    "df"
   ]
  },
  {
   "cell_type": "code",
   "execution_count": null,
   "id": "3831ede3",
   "metadata": {},
   "outputs": [],
   "source": []
  },
  {
   "cell_type": "code",
   "execution_count": null,
   "id": "c550aa8b",
   "metadata": {},
   "outputs": [],
   "source": [
    "feature_val =df.columns #checking all the dependent or feature variables in the dataset"
   ]
  },
  {
   "cell_type": "code",
   "execution_count": null,
   "id": "4c519935",
   "metadata": {},
   "outputs": [],
   "source": [
    "df.head(5) #checking the first 5 rows"
   ]
  },
  {
   "cell_type": "code",
   "execution_count": null,
   "id": "f8e09ac7",
   "metadata": {},
   "outputs": [],
   "source": [
    "len(df), len(feature_val)"
   ]
  },
  {
   "cell_type": "markdown",
   "id": "fc4a9636",
   "metadata": {},
   "source": [
    "The data have 1599 rows and 12 columns,\n",
    "Also we are dealing with 12 features"
   ]
  },
  {
   "cell_type": "markdown",
   "id": "27d3e079",
   "metadata": {},
   "source": [
    "# Data Exploration Analysis"
   ]
  },
  {
   "cell_type": "markdown",
   "id": "c3668bf9",
   "metadata": {},
   "source": [
    "first checking null values in the dataset"
   ]
  },
  {
   "cell_type": "code",
   "execution_count": null,
   "id": "0ce8befe",
   "metadata": {},
   "outputs": [],
   "source": [
    "df.isnull().sum() #can see that there is no empty values present in all the columns "
   ]
  },
  {
   "cell_type": "markdown",
   "id": "9b709adf",
   "metadata": {},
   "source": [
    "Doing a further check on the data types for each of the columns"
   ]
  },
  {
   "cell_type": "code",
   "execution_count": null,
   "id": "ad8b3c82",
   "metadata": {},
   "outputs": [],
   "source": [
    "df.dtypes # all values in each column contains a continuous data"
   ]
  },
  {
   "cell_type": "markdown",
   "id": "e00768f9",
   "metadata": {},
   "source": [
    "# Scatter Plots"
   ]
  },
  {
   "cell_type": "code",
   "execution_count": null,
   "id": "f053a81b",
   "metadata": {},
   "outputs": [],
   "source": [
    "sns.scatterplot(x= 'fixed acidity', y= 'quality',data = df)"
   ]
  },
  {
   "cell_type": "code",
   "execution_count": null,
   "id": "ba83f360",
   "metadata": {},
   "outputs": [],
   "source": [
    "sns.scatterplot(x= 'volatile acidity', y= 'quality',data = df)"
   ]
  },
  {
   "cell_type": "code",
   "execution_count": null,
   "id": "5b5d14bd",
   "metadata": {},
   "outputs": [],
   "source": [
    "sns.scatterplot(x= 'citric acid', y= 'quality',data = df)"
   ]
  },
  {
   "cell_type": "code",
   "execution_count": null,
   "id": "96a349e3",
   "metadata": {},
   "outputs": [],
   "source": [
    "sns.scatterplot(x= 'residual sugar', y= 'quality',data = df)"
   ]
  },
  {
   "cell_type": "code",
   "execution_count": null,
   "id": "67eb938d",
   "metadata": {},
   "outputs": [],
   "source": [
    "sns.scatterplot(x= 'chlorides', y= 'quality',data = df)"
   ]
  },
  {
   "cell_type": "code",
   "execution_count": null,
   "id": "c2fe66c9",
   "metadata": {},
   "outputs": [],
   "source": [
    "sns.scatterplot(x= 'free sulfur dioxide', y= 'quality',data = df)"
   ]
  },
  {
   "cell_type": "code",
   "execution_count": null,
   "id": "ae5164a6",
   "metadata": {},
   "outputs": [],
   "source": [
    "sns.scatterplot(x= 'total sulfur dioxide', y= 'quality',data = df)"
   ]
  },
  {
   "cell_type": "code",
   "execution_count": null,
   "id": "4bb6eb97",
   "metadata": {},
   "outputs": [],
   "source": [
    "sns.scatterplot(x= 'density', y= 'quality',data = df)"
   ]
  },
  {
   "cell_type": "code",
   "execution_count": null,
   "id": "a565ac79",
   "metadata": {},
   "outputs": [],
   "source": [
    "sns.scatterplot(x= 'pH', y= 'quality',data = df)"
   ]
  },
  {
   "cell_type": "code",
   "execution_count": null,
   "id": "d5bff0d2",
   "metadata": {},
   "outputs": [],
   "source": [
    "sns.scatterplot(x= 'sulphates', y= 'quality',data = df)"
   ]
  },
  {
   "cell_type": "code",
   "execution_count": null,
   "id": "bc3e1624",
   "metadata": {},
   "outputs": [],
   "source": [
    "sns.scatterplot(x= 'alcohol', y= 'quality',data = df)"
   ]
  },
  {
   "cell_type": "code",
   "execution_count": null,
   "id": "03cc6388",
   "metadata": {},
   "outputs": [],
   "source": [
    "df.corr()['quality'].sort_values()"
   ]
  },
  {
   "cell_type": "code",
   "execution_count": null,
   "id": "ce91f261",
   "metadata": {},
   "outputs": [],
   "source": [
    "df.corr()"
   ]
  },
  {
   "cell_type": "code",
   "execution_count": null,
   "id": "b93001a7",
   "metadata": {},
   "outputs": [],
   "source": [
    "plt.figure(figsize = (15,7))\n",
    "sns.heatmap(df.corr(),annot = True,linewidths = 0.5, linecolor = 'black',fmt = '.2f')"
   ]
  },
  {
   "cell_type": "markdown",
   "id": "f6f6e68d",
   "metadata": {},
   "source": [
    "# observations\n",
    " \n",
    "There are some negative correlations in the columns of the dataset with the target column\n",
    "\n",
    "fixed acidity has a 12 percent correlation with the target variable which is a very weak bond with the target column, volatile acid has a 39 percent negative correlation with the target column which is a good bond, citric acid also have a weak bond with the target column with 23 percent correlation, rediual sugar has a 1 percent correlation with the target column which is very weak, chlorides 13 percent, free sulfur dioxide, 5 percent, total sulfur dioxide 5 percent, density 17 percent, pH 6 percent, sulphate 25 percent, alchol 48 percent. \n",
    "\n",
    "alcohol has the highest correlation with the target column\n",
    "residual sugar has the lowest correlation with the target column\n",
    "\n",
    "further feature selection will be done to assertain the best features"
   ]
  },
  {
   "cell_type": "code",
   "execution_count": null,
   "id": "16f1f119",
   "metadata": {},
   "outputs": [],
   "source": [
    "df.describe()#checking the statiscal breakdown of the data"
   ]
  },
  {
   "cell_type": "code",
   "execution_count": null,
   "id": "98094479",
   "metadata": {},
   "outputs": [],
   "source": [
    "plt.figure(figsize=(15,12))\n",
    "sns.heatmap(round(df.describe()[1:].transpose(),2),linewidth=2,annot=True,fmt=\"f\")\n",
    "plt.xticks(fontsize=18)\n",
    "plt.yticks(fontsize=12)\n",
    "plt.title('Variables summary')\n",
    "plt.show()"
   ]
  },
  {
   "cell_type": "markdown",
   "id": "733f0021",
   "metadata": {},
   "source": [
    "# Observation of description of datasets\n",
    "\n",
    "Total number of rows and columns in the dataset\n",
    "1. 1599 rows\n",
    "2. 12 columns\n",
    "\n",
    "fixed acidity:\n",
    "\n",
    " 1. mean=8.32\n",
    " 2. std=1.74\n",
    " 3. max_value =15.9\n",
    " 4. min_value= 4.6\n",
    "\n",
    "volatile acidity:\n",
    "\n",
    " 1. mean= 0.53\n",
    " 2. std= 0.18\n",
    " 3. max_value =\n",
    " 4. min_value =\n",
    "\n",
    "citric acid:\n",
    "  mean=\n",
    "  std=\n",
    "  max_value\n",
    "  min_value\n",
    "\n",
    "residual sugar:\n",
    " mean=\n",
    " std=\n",
    " max_value\n",
    " min_value\n",
    "\n",
    "chlorides:\n",
    "  mean=\n",
    "  std=\n",
    "  max_value\n",
    "  min_value\n",
    "\n",
    "free sulfur dioxide:\n",
    "  mean=\n",
    "  std=\n",
    "  max_value\n",
    "  min_value\n",
    "\n",
    "total sulfur dioxide:\n",
    "  mean=\n",
    "  std=\n",
    "  max_value\n",
    "  min_value\n",
    "\n",
    "density:\n",
    "  mean=\n",
    "  std=\n",
    "  max_value\n",
    "  min_value\n",
    "\n",
    "pH:\n",
    "mean=\n",
    "std=\n",
    "max_value\n",
    "min_value\n",
    "\n",
    "sulphate:\n",
    "mean=\n",
    "std=\n",
    "max_value\n",
    "min_value\n",
    "\n",
    "alcohol:\n",
    "mean=\n",
    "std=\n",
    "max_value\n",
    "min_value\n",
    "\n",
    "quality:\n",
    "mean=\n",
    "std=\n",
    "max_value\n",
    "min_value"
   ]
  },
  {
   "cell_type": "code",
   "execution_count": null,
   "id": "f1efdb29",
   "metadata": {},
   "outputs": [],
   "source": [
    "df.info()"
   ]
  },
  {
   "cell_type": "markdown",
   "id": "3daa380b",
   "metadata": {},
   "source": [
    "# checking Outliers"
   ]
  },
  {
   "cell_type": "code",
   "execution_count": null,
   "id": "de591855",
   "metadata": {},
   "outputs": [],
   "source": [
    "d_dims = (10,7)\n",
    "fig, ax = plt.subplots(figsize=d_dims)\n",
    "g = sns.boxplot(data =df, linewidth =2.5, ax = ax)\n",
    "g.set_yscale(\"log\")"
   ]
  },
  {
   "cell_type": "code",
   "execution_count": null,
   "id": "db0377df",
   "metadata": {},
   "outputs": [],
   "source": []
  },
  {
   "cell_type": "markdown",
   "id": "1592b62e",
   "metadata": {},
   "source": [
    "# observations\n",
    "frome the above, it can be observed that only alcohol and quality ( target) has few outliers the rest has more outlier, also the data is narrowly spreaded in residual sugar and chlorides with many outliers. Further skewnes checks will be done on them."
   ]
  },
  {
   "cell_type": "markdown",
   "id": "1f7f3ab6",
   "metadata": {},
   "source": [
    "# Checking Skewness"
   ]
  },
  {
   "cell_type": "code",
   "execution_count": null,
   "id": "94d30053",
   "metadata": {},
   "outputs": [],
   "source": [
    "df.skew()"
   ]
  },
  {
   "cell_type": "markdown",
   "id": "a175fea1",
   "metadata": {},
   "source": [
    "Threshold of skewness taken is +/-0.5, Columns which have skewness:\n",
    "  1.  fixed acidity\n",
    "  2. volatility acidity\n",
    "  3. residual sugar\n",
    "  4. chlorides\n",
    "  5. free sulfur dioxide\n",
    "  6. total sulfur dioxide\n",
    "  7. suplhates\n",
    " "
   ]
  },
  {
   "cell_type": "markdown",
   "id": "3c2c9c7d",
   "metadata": {},
   "source": [
    "# Normal distribution curves\n"
   ]
  },
  {
   "cell_type": "code",
   "execution_count": null,
   "id": "5bbbe5f1",
   "metadata": {},
   "outputs": [],
   "source": [
    "sns.distplot(df[\"fixed acidity\"])"
   ]
  },
  {
   "cell_type": "code",
   "execution_count": null,
   "id": "c6ed7d70",
   "metadata": {},
   "outputs": [],
   "source": [
    "sns.distplot(df[\"volatile acidity\"])"
   ]
  },
  {
   "cell_type": "code",
   "execution_count": null,
   "id": "5009c608",
   "metadata": {},
   "outputs": [],
   "source": [
    "sns.distplot(df[\"residual sugar\"])"
   ]
  },
  {
   "cell_type": "code",
   "execution_count": null,
   "id": "140672a7",
   "metadata": {},
   "outputs": [],
   "source": [
    "sns.distplot(df[\"chlorides\"])"
   ]
  },
  {
   "cell_type": "code",
   "execution_count": null,
   "id": "2ccb323c",
   "metadata": {},
   "outputs": [],
   "source": [
    "sns.distplot(df[\"free sulfur dioxide\"])"
   ]
  },
  {
   "cell_type": "code",
   "execution_count": null,
   "id": "56d71319",
   "metadata": {},
   "outputs": [],
   "source": [
    "sns.distplot(df[\"total sulfur dioxide\"])"
   ]
  },
  {
   "cell_type": "code",
   "execution_count": null,
   "id": "b9d26091",
   "metadata": {},
   "outputs": [],
   "source": [
    "sns.distplot(df[\"density\"])"
   ]
  },
  {
   "cell_type": "code",
   "execution_count": null,
   "id": "4496705c",
   "metadata": {},
   "outputs": [],
   "source": [
    "sns.distplot(df[\"pH\"])"
   ]
  },
  {
   "cell_type": "code",
   "execution_count": null,
   "id": "53c1662d",
   "metadata": {},
   "outputs": [],
   "source": [
    "sns.distplot(df[\"sulphates\"])"
   ]
  },
  {
   "cell_type": "code",
   "execution_count": null,
   "id": "f98dc227",
   "metadata": {},
   "outputs": [],
   "source": [
    "sns.distplot(df[\"alcohol\"])"
   ]
  },
  {
   "cell_type": "markdown",
   "id": "3d0647bc",
   "metadata": {},
   "source": [
    "From all the above normal distributions of each feature, we can conclude that the data is skewed"
   ]
  },
  {
   "cell_type": "markdown",
   "id": "99657aae",
   "metadata": {},
   "source": [
    "# Data cleaning"
   ]
  },
  {
   "cell_type": "code",
   "execution_count": null,
   "id": "def79806",
   "metadata": {},
   "outputs": [],
   "source": [
    "remove = pd.DataFrame([[\"0.013732\",\"residual sugar\",\"No\",\"many\"],[\"-0.050656\",\"free sulfur dioxide\",\"No\",\"many\"],[\"0.057731\",\"pH\",\"No\",\"many\"],[\"-0.128907\",\"chlorides\",\"No\",\"many\"],[\"-0.185100\",\"total sulfur dioxide\",\"No\",\"many\"]],columns=[\"Correlation with targer\",\"column name\",\"Normalised\",\"outliers\"])\n",
    "remove"
   ]
  },
  {
   "cell_type": "markdown",
   "id": "6af864c6",
   "metadata": {},
   "source": [
    "setting threshold of correlation as +/-0.2\n",
    "\n",
    "the above data will be dropped based on the fact that they are uncorrelated with the target variable and also has too many outliers, a further check will be done to assertain this deletion"
   ]
  },
  {
   "cell_type": "markdown",
   "id": "a8ddff04",
   "metadata": {},
   "source": [
    "# Feature selection"
   ]
  },
  {
   "cell_type": "code",
   "execution_count": null,
   "id": "011f378e",
   "metadata": {},
   "outputs": [],
   "source": [
    "#selecting independent and dependent variables\n",
    "\n",
    "y = df['quality']#dependent variable\n",
    "x = df.drop(['quality'], axis =1)#independent variable"
   ]
  },
  {
   "cell_type": "code",
   "execution_count": null,
   "id": "7d059468",
   "metadata": {},
   "outputs": [],
   "source": [
    "x"
   ]
  },
  {
   "cell_type": "code",
   "execution_count": null,
   "id": "b92000ea",
   "metadata": {},
   "outputs": [],
   "source": [
    "from sklearn.model_selection import train_test_split"
   ]
  },
  {
   "cell_type": "code",
   "execution_count": null,
   "id": "9b6ea00b",
   "metadata": {},
   "outputs": [],
   "source": [
    "x_train,x_test,y_train,y_test = train_test_split(x,y, random_state =100, test_size = 0.3)"
   ]
  },
  {
   "cell_type": "code",
   "execution_count": null,
   "id": "afd2d74d",
   "metadata": {},
   "outputs": [],
   "source": [
    "cor = x_train.corr()\n",
    "plt.figure(figsize =(12,10))\n",
    "sns.heatmap(cor, cmap =plt.cm.CMRmap_r, annot = True)\n",
    "plt.show"
   ]
  },
  {
   "cell_type": "code",
   "execution_count": null,
   "id": "f724cef8",
   "metadata": {},
   "outputs": [],
   "source": [
    "def correlation(dataset, threshold):\n",
    "    col_corr = set()\n",
    "    corr_matrix = dataset.corr()\n",
    "    for i in range(len(corr_matrix.columns)):\n",
    "        for j in range(i):\n",
    "            if abs(corr_matrix.iloc[i,j]) > threshold: \n",
    "                colname = corr_matrix.columns[i]\n",
    "                col_corr.add(colname)\n",
    "    return col_corr"
   ]
  },
  {
   "cell_type": "code",
   "execution_count": null,
   "id": "c8468cbd",
   "metadata": {},
   "outputs": [],
   "source": [
    "corr_features = correlation(x_train, 0.6)\n",
    "corr_features"
   ]
  },
  {
   "cell_type": "markdown",
   "id": "0f0c1bf5",
   "metadata": {},
   "source": [
    "# Chi - square test"
   ]
  },
  {
   "cell_type": "code",
   "execution_count": null,
   "id": "49aa74fd",
   "metadata": {},
   "outputs": [],
   "source": [
    "from sklearn.feature_selection import chi2"
   ]
  },
  {
   "cell_type": "code",
   "execution_count": null,
   "id": "7ca92f4e",
   "metadata": {},
   "outputs": [],
   "source": [
    "f_p_values = chi2(x_train, y_train)\n",
    "f_p_values"
   ]
  },
  {
   "cell_type": "code",
   "execution_count": null,
   "id": "bf5f1c6e",
   "metadata": {},
   "outputs": [],
   "source": [
    "p_values = pd.Series(f_p_values[1])\n",
    "p_values.index = x_train.columns\n",
    "p_values"
   ]
  },
  {
   "cell_type": "code",
   "execution_count": null,
   "id": "23398ac1",
   "metadata": {},
   "outputs": [],
   "source": [
    "p_values.sort_index(ascending=False)"
   ]
  },
  {
   "cell_type": "code",
   "execution_count": null,
   "id": "2a9f0798",
   "metadata": {},
   "outputs": [],
   "source": [
    "from sklearn.feature_selection import mutual_info_classif"
   ]
  },
  {
   "cell_type": "code",
   "execution_count": null,
   "id": "ffd6f878",
   "metadata": {},
   "outputs": [],
   "source": [
    "mutual_info = mutual_info_classif(x_train, y_train)\n",
    "mutual_info"
   ]
  },
  {
   "cell_type": "code",
   "execution_count": null,
   "id": "7eb7927e",
   "metadata": {},
   "outputs": [],
   "source": [
    "mutual_info = pd.Series(mutual_info)\n",
    "mutual_info.index = x_train.columns\n",
    "mutual_info.sort_values(ascending=False)"
   ]
  },
  {
   "cell_type": "code",
   "execution_count": null,
   "id": "5996b7f0",
   "metadata": {},
   "outputs": [],
   "source": [
    "mutual_info.sort_values(ascending=False).plot.bar(figsize =(20,8))"
   ]
  },
  {
   "cell_type": "markdown",
   "id": "7dc54a09",
   "metadata": {},
   "source": [
    "selecting the best feature"
   ]
  },
  {
   "cell_type": "code",
   "execution_count": null,
   "id": "a5d42245",
   "metadata": {},
   "outputs": [],
   "source": [
    "from sklearn.feature_selection import SelectKBest"
   ]
  },
  {
   "cell_type": "code",
   "execution_count": null,
   "id": "f53d3bfb",
   "metadata": {},
   "outputs": [],
   "source": [
    "sel_five_cols = SelectKBest(mutual_info_classif, k=5)\n",
    "sel_five_cols.fit(x_train, y_train)\n",
    "x_train.columns[sel_five_cols.get_support()]"
   ]
  },
  {
   "cell_type": "markdown",
   "id": "3d0cc631",
   "metadata": {},
   "source": [
    "Based on the three feature selection methods, we can go ahead and drop the following columns:\n",
    "1. residual sugar\n",
    "2. free sulfur dioxide\n",
    "3. pH\n",
    "4. chlorides\n",
    "6. total sulfur dioxide"
   ]
  },
  {
   "cell_type": "code",
   "execution_count": null,
   "id": "8cb95968",
   "metadata": {},
   "outputs": [],
   "source": [
    "remove"
   ]
  },
  {
   "cell_type": "code",
   "execution_count": null,
   "id": "dcd6d79b",
   "metadata": {},
   "outputs": [],
   "source": [
    "df = df.drop([\"residual sugar\",\"free sulfur dioxide\", \"pH\", \"chlorides\",\"total sulfur dioxide\"], axis =1)"
   ]
  },
  {
   "cell_type": "code",
   "execution_count": null,
   "id": "82540c5e",
   "metadata": {},
   "outputs": [],
   "source": [
    "# setting an abitrary cuttoff for dependent variable,(wine quality) 7 or higher are set to 1(good) otherwise 0(not good)\n",
    "rating = []\n",
    "for row in df['quality']:\n",
    "    if row >= 7:\n",
    "        rating.append(1)\n",
    "    else:\n",
    "        rating.append(0)\n",
    "df['rating'] = rating # adding a new column to the dataset this will be my target variable\n",
    "df"
   ]
  },
  {
   "cell_type": "code",
   "execution_count": null,
   "id": "e671d0df",
   "metadata": {},
   "outputs": [],
   "source": []
  },
  {
   "cell_type": "code",
   "execution_count": null,
   "id": "2e51da6f",
   "metadata": {},
   "outputs": [],
   "source": [
    "df.shape"
   ]
  },
  {
   "cell_type": "markdown",
   "id": "3f15379b",
   "metadata": {},
   "source": [
    "# Removing outliers"
   ]
  },
  {
   "cell_type": "code",
   "execution_count": null,
   "id": "39899add",
   "metadata": {},
   "outputs": [],
   "source": [
    "y = df['rating']#dependent variables\n",
    "x = df.drop(['quality','rating'], axis =1) #independent variables"
   ]
  },
  {
   "cell_type": "code",
   "execution_count": null,
   "id": "515c5ea4",
   "metadata": {},
   "outputs": [],
   "source": [
    "y"
   ]
  },
  {
   "cell_type": "code",
   "execution_count": null,
   "id": "8de5bbf7",
   "metadata": {},
   "outputs": [],
   "source": [
    "from scipy.stats import zscore\n",
    "z = np.abs(zscore(x))\n",
    "z.shape"
   ]
  },
  {
   "cell_type": "code",
   "execution_count": null,
   "id": "a4476445",
   "metadata": {},
   "outputs": [],
   "source": [
    "threshold = 3\n",
    "print(np.where(z > 3))"
   ]
  },
  {
   "cell_type": "code",
   "execution_count": null,
   "id": "ef40dde1",
   "metadata": {},
   "outputs": [],
   "source": [
    "x = x[(z<3).all(axis=1)]\n",
    "x.shape"
   ]
  },
  {
   "cell_type": "code",
   "execution_count": null,
   "id": "238d1442",
   "metadata": {},
   "outputs": [],
   "source": [
    "y = y[(z<3).all(axis=1)]\n",
    "y.shape"
   ]
  },
  {
   "cell_type": "markdown",
   "id": "456b3cc4",
   "metadata": {},
   "source": [
    "# percentage data loss"
   ]
  },
  {
   "cell_type": "code",
   "execution_count": null,
   "id": "fc648657",
   "metadata": {},
   "outputs": [],
   "source": [
    "loss_percent = (1599 - 1531)/1599*100\n",
    "print(loss_percent)"
   ]
  },
  {
   "cell_type": "markdown",
   "id": "70adc5c7",
   "metadata": {},
   "source": [
    "# Transforming data to remove skewness"
   ]
  },
  {
   "cell_type": "code",
   "execution_count": null,
   "id": "bfe47e23",
   "metadata": {},
   "outputs": [],
   "source": [
    "from sklearn.preprocessing import power_transform\n",
    "x = power_transform(x, method='yeo-johnson')"
   ]
  },
  {
   "cell_type": "code",
   "execution_count": null,
   "id": "230151ef",
   "metadata": {},
   "outputs": [],
   "source": [
    "x"
   ]
  },
  {
   "cell_type": "code",
   "execution_count": null,
   "id": "3a51e9d1",
   "metadata": {},
   "outputs": [],
   "source": [
    "from sklearn.preprocessing import StandardScaler\n",
    "sc = StandardScaler()\n",
    "x = sc.fit_transform(x)\n",
    "x"
   ]
  },
  {
   "cell_type": "code",
   "execution_count": null,
   "id": "3dbb98e0",
   "metadata": {},
   "outputs": [],
   "source": [
    "#oversampling the data\n",
    "from imblearn.over_sampling import SMOTE\n",
    "sm = SMOTE()\n",
    "x,y = sm.fit_resample(x,y)"
   ]
  },
  {
   "cell_type": "code",
   "execution_count": null,
   "id": "0c15bd8f",
   "metadata": {},
   "outputs": [],
   "source": [
    "y.value_counts() #checking value count of target column"
   ]
  },
  {
   "cell_type": "code",
   "execution_count": null,
   "id": "e3d16fa0",
   "metadata": {},
   "outputs": [],
   "source": [
    "len(y)"
   ]
  },
  {
   "cell_type": "code",
   "execution_count": null,
   "id": "e6e7b3e2",
   "metadata": {},
   "outputs": [],
   "source": [
    "from sklearn.model_selection import train_test_split\n",
    "from sklearn.linear_model import LogisticRegression\n",
    "lr = LogisticRegression()\n",
    "from sklearn.metrics import classification_report, confusion_matrix, roc_curve, accuracy_score"
   ]
  },
  {
   "cell_type": "markdown",
   "id": "d704e529",
   "metadata": {},
   "source": [
    "# spliting the dataset"
   ]
  },
  {
   "cell_type": "code",
   "execution_count": null,
   "id": "5d3ad9c2",
   "metadata": {},
   "outputs": [],
   "source": [
    "for i in range(0,1000):\n",
    "    x_train,x_test,y_train,y_test = train_test_split(x,y, random_state =i, test_size = 0.20)\n",
    "    lr.fit(x_train,y_train)\n",
    "    pred_train= lr.predict(x_train)\n",
    "    pred_test = lr.predict(x_test)\n",
    "    if round(accuracy_score(y_train,pred_train)*100,1)== round(accuracy_score(y_test,pred_test)*100,1):\n",
    "        print('At random state',i, 'the model perfoms very well')\n",
    "        print('At random state:-', i)\n",
    "        print('Training accuracy is:', accuracy_score(y_train,pred_train)*100)\n",
    "        print('Testing accuracy is:', accuracy_score(y_test,pred_test)*100)\n",
    "        print('\\n')"
   ]
  },
  {
   "cell_type": "code",
   "execution_count": null,
   "id": "fd787452",
   "metadata": {},
   "outputs": [],
   "source": [
    "x_train,x_test,y_train,y_test = train_test_split(x,y, test_size = .20, random_state = 203)"
   ]
  },
  {
   "cell_type": "code",
   "execution_count": null,
   "id": "47036830",
   "metadata": {},
   "outputs": [],
   "source": [
    "from sklearn.metrics import classification_report\n",
    "print(classification_report(y_test,pred_test))"
   ]
  },
  {
   "cell_type": "markdown",
   "id": "08a03d09",
   "metadata": {},
   "source": [
    "# Cross validation"
   ]
  },
  {
   "cell_type": "code",
   "execution_count": null,
   "id": "7165dc47",
   "metadata": {},
   "outputs": [],
   "source": [
    "pred_lr = lr.predict(x_test)\n",
    "from sklearn.model_selection import cross_val_score\n",
    "lss = accuracy_score(y_test,pred_lr)\n",
    "for i in range(2,10):\n",
    "    lsscore = cross_val_score(lr,x,y, cv =i)\n",
    "    lsc = lsscore.mean()\n",
    "    print('At cv:',i)\n",
    "    print('cross validation score is:-', lsc*100)\n",
    "    print('accuracy_score is:-',lss*100)\n",
    "    \n",
    "    print('\\n')"
   ]
  },
  {
   "cell_type": "markdown",
   "id": "ccc599fa",
   "metadata": {},
   "source": [
    "The scores are almost the same in the above cross-validation we will take the one with least difference between the accuracy on test data and cross validation"
   ]
  },
  {
   "cell_type": "code",
   "execution_count": null,
   "id": "ad425778",
   "metadata": {},
   "outputs": [],
   "source": [
    "lsscore_selected = cross_val_score(lr,x,y, cv = 8).mean()\n",
    "print('The cv score is:',lsscore_selected,'\\nThe accuracy score is:', lss)"
   ]
  },
  {
   "cell_type": "code",
   "execution_count": null,
   "id": "02b724e3",
   "metadata": {},
   "outputs": [],
   "source": []
  },
  {
   "cell_type": "code",
   "execution_count": null,
   "id": "aa1ed7a6",
   "metadata": {},
   "outputs": [],
   "source": [
    "RFC = RandomForestClassifier()\n",
    "RFC.fit(x_train,y_train)\n",
    "predRFC = RFC.predict(x_test)\n",
    "print(accuracy_score(y_test,predRFC))\n",
    "print(confusion_matrix(y_test,predRFC))\n",
    "print(classification_report(y_test,predRFC))"
   ]
  },
  {
   "cell_type": "code",
   "execution_count": null,
   "id": "02d83b8d",
   "metadata": {},
   "outputs": [],
   "source": [
    "score = cross_val_score(RFC,x,y)\n",
    "print(score)\n",
    "print(score.mean())\n",
    "print('Difference between accuracy and cross validation score is', accuracy_score(y_test,predRFC)-score.mean())"
   ]
  },
  {
   "cell_type": "code",
   "execution_count": null,
   "id": "319aaac1",
   "metadata": {},
   "outputs": [],
   "source": [
    "from sklearn.svm import SVC\n",
    "svc = SVC()\n",
    "svc.fit(x_train, y_train)\n",
    "predsvc = svc.predict(x_test)\n",
    "print(accuracy_score(y_test, predsvc))\n",
    "print(confusion_matrix(y_test,predsvc))\n",
    "print(classification_report(y_test,predsvc))"
   ]
  },
  {
   "cell_type": "code",
   "execution_count": null,
   "id": "2a9b3d93",
   "metadata": {},
   "outputs": [],
   "source": [
    "#checking cv score for support vector machine classifier\n",
    "score = cross_val_score(svc,x,y)\n",
    "print(score)\n",
    "print(score.mean())\n",
    "print('Difference between accuracy and cross validation score is', accuracy_score(y_test,predsvc)-score.mean())"
   ]
  },
  {
   "cell_type": "code",
   "execution_count": null,
   "id": "3136314a",
   "metadata": {},
   "outputs": [],
   "source": [
    "#checking accuracy for Gradient boosting classifier\n",
    "GB = GradientBoostingClassifier()\n",
    "GB.fit(x_train,y_train)\n",
    "predGB = GB.predict(x_test)\n",
    "print(accuracy_score(y_test, predGB))\n",
    "print(confusion_matrix(y_test,predGB))\n",
    "print(classification_report(y_test,predGB))"
   ]
  },
  {
   "cell_type": "code",
   "execution_count": null,
   "id": "94c8fbcc",
   "metadata": {},
   "outputs": [],
   "source": [
    "score = cross_val_score(GB,x,y)\n",
    "print(score)\n",
    "print(score.mean())\n",
    "print('Difference between accuracy and cross validation score is', accuracy_score(y_test,predGB)-score.mean())"
   ]
  },
  {
   "cell_type": "code",
   "execution_count": null,
   "id": "3dda4608",
   "metadata": {},
   "outputs": [],
   "source": [
    "#checking accuracy for Decision Tree classifier\n",
    "from sklearn.tree import DecisionTreeClassifier\n",
    "dtc = DecisionTreeClassifier()\n",
    "dtc.fit(x_train,y_train)\n",
    "predtc = dtc.predict(x_test)\n",
    "print(accuracy_score(y_test,predtc))\n",
    "print(confusion_matrix(y_test,predtc))\n",
    "print(classification_report(y_test,predtc))"
   ]
  },
  {
   "cell_type": "code",
   "execution_count": null,
   "id": "20739879",
   "metadata": {},
   "outputs": [],
   "source": [
    "score = cross_val_score(dtc,x,y)\n",
    "print(score)\n",
    "print(score.mean())\n",
    "print('Difference between accuracy and cross validation score is', accuracy_score(y_test,predtc)-score.mean())"
   ]
  },
  {
   "cell_type": "markdown",
   "id": "f870c018",
   "metadata": {},
   "source": [
    "# Hyper parameter tuning"
   ]
  },
  {
   "cell_type": "code",
   "execution_count": null,
   "id": "51892e6c",
   "metadata": {},
   "outputs": [],
   "source": [
    "from sklearn.model_selection import GridSearchCV"
   ]
  },
  {
   "cell_type": "code",
   "execution_count": null,
   "id": "4f6e64e1",
   "metadata": {},
   "outputs": [],
   "source": [
    "parameters={\"splitter\":[\"best\",\"random\"],\n",
    "            \"max_depth\" : [1,3,5,7,9,11,12],\n",
    "           \"min_samples_leaf\":[1,2,3,4,5,6,7,8,9,10],\n",
    "           \"min_weight_fraction_leaf\":[0.1,0.2,0.3,0.4,0.5,0.6,0.7,0.8,0.9],\n",
    "           \"max_features\":[\"auto\",\"log2\",\"sqrt\",None],\n",
    "           \"max_leaf_nodes\":[None,10,20,30,40,50,60,70,80,90] }"
   ]
  },
  {
   "cell_type": "code",
   "execution_count": null,
   "id": "4ffb234a",
   "metadata": {},
   "outputs": [],
   "source": [
    "tuning_model = GridSearchCV(dtc,param_grid=parameters, scoring = 'neg_mean_squared_error', cv =3, verbose = 3)"
   ]
  },
  {
   "cell_type": "code",
   "execution_count": null,
   "id": "02ba665d",
   "metadata": {},
   "outputs": [],
   "source": [
    "tuning_model.fit(x_train, y_train)"
   ]
  },
  {
   "cell_type": "code",
   "execution_count": null,
   "id": "905222e2",
   "metadata": {},
   "outputs": [],
   "source": [
    "tuning_model.best_params_"
   ]
  },
  {
   "cell_type": "code",
   "execution_count": null,
   "id": "20feafe4",
   "metadata": {},
   "outputs": [],
   "source": [
    "final_model = DecisionTreeClassifier(max_depth=9,max_features ='sqrt',max_leaf_nodes=80,min_samples_leaf = 4,min_weight_fraction_leaf=0.1,splitter='best')\n",
    "final_model.fit(x_train,y_train)\n",
    "pred = final_model.predict(x_test)\n",
    "acc = accuracy_score(y_test,pred)\n",
    "print(acc*100)"
   ]
  },
  {
   "cell_type": "markdown",
   "id": "da66dc63",
   "metadata": {},
   "source": [
    "# AUC ROC Curve"
   ]
  },
  {
   "cell_type": "code",
   "execution_count": null,
   "id": "2aa48e09",
   "metadata": {},
   "outputs": [],
   "source": [
    "from sklearn import datasets\n",
    "from sklearn import metrics\n",
    "from sklearn import model_selection\n",
    "from sklearn.metrics import plot_roc_curve\n",
    "\n",
    "disp = plot_roc_curve(dtc,x_test,y_test)\n",
    "plot_roc_curve(RFC, x_test,y_test, ax = disp.ax_)\n",
    "\n",
    "plot_roc_curve(svc, x_test, y_test, ax = disp.ax_)\n",
    "plot_roc_curve(GB, x_test,y_test,ax = disp.ax_)\n",
    "\n",
    "plt.legend(prop={'size':11},loc = 'lower right')\n",
    "plt.show()"
   ]
  },
  {
   "cell_type": "markdown",
   "id": "110fc39e",
   "metadata": {},
   "source": [
    "# saving the model"
   ]
  },
  {
   "cell_type": "code",
   "execution_count": null,
   "id": "d627a747",
   "metadata": {},
   "outputs": [],
   "source": [
    "import pickle\n",
    "filename = 'wine_dataset.pkl'\n",
    "pickle.dump(final_model,open(filename,'wb'))"
   ]
  },
  {
   "cell_type": "markdown",
   "id": "42a07055",
   "metadata": {},
   "source": [
    "# conclusion"
   ]
  },
  {
   "cell_type": "code",
   "execution_count": null,
   "id": "bff6406b",
   "metadata": {},
   "outputs": [],
   "source": [
    "b = np.array(y_test)\n",
    "predicted= np.array(lr.predict(x_test))\n",
    "df_com =pd.DataFrame({'original':b,'predicted':predicted},index=range(len(b)))\n",
    "df_com"
   ]
  },
  {
   "cell_type": "code",
   "execution_count": null,
   "id": "00478353",
   "metadata": {},
   "outputs": [],
   "source": []
  }
 ],
 "metadata": {
  "kernelspec": {
   "display_name": "Python 3 (ipykernel)",
   "language": "python",
   "name": "python3"
  },
  "language_info": {
   "codemirror_mode": {
    "name": "ipython",
    "version": 3
   },
   "file_extension": ".py",
   "mimetype": "text/x-python",
   "name": "python",
   "nbconvert_exporter": "python",
   "pygments_lexer": "ipython3",
   "version": "3.9.12"
  }
 },
 "nbformat": 4,
 "nbformat_minor": 5
}
